{
 "cells": [
  {
   "cell_type": "code",
   "execution_count": 385,
   "id": "df635dc3",
   "metadata": {},
   "outputs": [],
   "source": [
    "import pandas as pd\n",
    "import matplotlib.pyplot as plt\n",
    "import numpy as np\n",
    "import pandas as pd\n",
    "import seaborn as sns\n",
    "from sklearn.model_selection import train_test_split\n",
    "from sklearn import metrics\n",
    "import tensorflow as tf\n",
    "from tensorflow import keras"
   ]
  },
  {
   "cell_type": "code",
   "execution_count": 386,
   "id": "a56cf50d",
   "metadata": {},
   "outputs": [
    {
     "name": "stdout",
     "output_type": "stream",
     "text": [
      "      Area  MajorAxisLength  MinorAxisLength  Eccentricity  ConvexArea  \\\n",
      "0    87524       442.246011       253.291155      0.819738       90546   \n",
      "1    75166       406.690687       243.032436      0.801805       78789   \n",
      "2    90856       442.267048       266.328318      0.798354       93717   \n",
      "3    45928       286.540559       208.760042      0.684989       47336   \n",
      "4    79408       352.190770       290.827533      0.564011       81463   \n",
      "..     ...              ...              ...           ...         ...   \n",
      "895  83248       430.077308       247.838695      0.817263       85839   \n",
      "896  87350       440.735698       259.293149      0.808629       90899   \n",
      "897  99657       431.706981       298.837323      0.721684      106264   \n",
      "898  93523       476.344094       254.176054      0.845739       97653   \n",
      "899  85609       512.081774       215.271976      0.907345       89197   \n",
      "\n",
      "       Extent  Perimeter    Class  \n",
      "0    0.758651   1184.040  Kecimen  \n",
      "1    0.684130   1121.786  Kecimen  \n",
      "2    0.637613   1208.575  Kecimen  \n",
      "3    0.699599    844.162  Kecimen  \n",
      "4    0.792772   1073.251  Kecimen  \n",
      "..        ...        ...      ...  \n",
      "895  0.668793   1129.072    Besni  \n",
      "896  0.636476   1214.252    Besni  \n",
      "897  0.741099   1292.828    Besni  \n",
      "898  0.658798   1258.548    Besni  \n",
      "899  0.632020   1272.862    Besni  \n",
      "\n",
      "[900 rows x 8 columns]\n"
     ]
    }
   ],
   "source": [
    "# 파일 가져오기\n",
    "\n",
    "file_name = 'C:/Users/abc99/OneDrive/바탕 화면/2023 2학기 파일 전체 모음/딥러닝응용/raisin/Raisin_Dataset.xlsx'\n",
    "df = pd.read_excel(file_name)\n",
    "print(df)"
   ]
  },
  {
   "cell_type": "code",
   "execution_count": 387,
   "id": "6181fc5d",
   "metadata": {},
   "outputs": [],
   "source": [
    "data = df"
   ]
  },
  {
   "cell_type": "code",
   "execution_count": 388,
   "id": "c96a9ef8",
   "metadata": {},
   "outputs": [
    {
     "data": {
      "text/html": [
       "<div>\n",
       "<style scoped>\n",
       "    .dataframe tbody tr th:only-of-type {\n",
       "        vertical-align: middle;\n",
       "    }\n",
       "\n",
       "    .dataframe tbody tr th {\n",
       "        vertical-align: top;\n",
       "    }\n",
       "\n",
       "    .dataframe thead th {\n",
       "        text-align: right;\n",
       "    }\n",
       "</style>\n",
       "<table border=\"1\" class=\"dataframe\">\n",
       "  <thead>\n",
       "    <tr style=\"text-align: right;\">\n",
       "      <th></th>\n",
       "      <th>Area</th>\n",
       "      <th>MajorAxisLength</th>\n",
       "      <th>MinorAxisLength</th>\n",
       "      <th>Eccentricity</th>\n",
       "      <th>ConvexArea</th>\n",
       "      <th>Extent</th>\n",
       "      <th>Perimeter</th>\n",
       "      <th>Class</th>\n",
       "    </tr>\n",
       "  </thead>\n",
       "  <tbody>\n",
       "    <tr>\n",
       "      <th>0</th>\n",
       "      <td>87524</td>\n",
       "      <td>442.246011</td>\n",
       "      <td>253.291155</td>\n",
       "      <td>0.819738</td>\n",
       "      <td>90546</td>\n",
       "      <td>0.758651</td>\n",
       "      <td>1184.040</td>\n",
       "      <td>Kecimen</td>\n",
       "    </tr>\n",
       "    <tr>\n",
       "      <th>1</th>\n",
       "      <td>75166</td>\n",
       "      <td>406.690687</td>\n",
       "      <td>243.032436</td>\n",
       "      <td>0.801805</td>\n",
       "      <td>78789</td>\n",
       "      <td>0.684130</td>\n",
       "      <td>1121.786</td>\n",
       "      <td>Kecimen</td>\n",
       "    </tr>\n",
       "    <tr>\n",
       "      <th>2</th>\n",
       "      <td>90856</td>\n",
       "      <td>442.267048</td>\n",
       "      <td>266.328318</td>\n",
       "      <td>0.798354</td>\n",
       "      <td>93717</td>\n",
       "      <td>0.637613</td>\n",
       "      <td>1208.575</td>\n",
       "      <td>Kecimen</td>\n",
       "    </tr>\n",
       "    <tr>\n",
       "      <th>3</th>\n",
       "      <td>45928</td>\n",
       "      <td>286.540559</td>\n",
       "      <td>208.760042</td>\n",
       "      <td>0.684989</td>\n",
       "      <td>47336</td>\n",
       "      <td>0.699599</td>\n",
       "      <td>844.162</td>\n",
       "      <td>Kecimen</td>\n",
       "    </tr>\n",
       "    <tr>\n",
       "      <th>4</th>\n",
       "      <td>79408</td>\n",
       "      <td>352.190770</td>\n",
       "      <td>290.827533</td>\n",
       "      <td>0.564011</td>\n",
       "      <td>81463</td>\n",
       "      <td>0.792772</td>\n",
       "      <td>1073.251</td>\n",
       "      <td>Kecimen</td>\n",
       "    </tr>\n",
       "    <tr>\n",
       "      <th>...</th>\n",
       "      <td>...</td>\n",
       "      <td>...</td>\n",
       "      <td>...</td>\n",
       "      <td>...</td>\n",
       "      <td>...</td>\n",
       "      <td>...</td>\n",
       "      <td>...</td>\n",
       "      <td>...</td>\n",
       "    </tr>\n",
       "    <tr>\n",
       "      <th>895</th>\n",
       "      <td>83248</td>\n",
       "      <td>430.077308</td>\n",
       "      <td>247.838695</td>\n",
       "      <td>0.817263</td>\n",
       "      <td>85839</td>\n",
       "      <td>0.668793</td>\n",
       "      <td>1129.072</td>\n",
       "      <td>Besni</td>\n",
       "    </tr>\n",
       "    <tr>\n",
       "      <th>896</th>\n",
       "      <td>87350</td>\n",
       "      <td>440.735698</td>\n",
       "      <td>259.293149</td>\n",
       "      <td>0.808629</td>\n",
       "      <td>90899</td>\n",
       "      <td>0.636476</td>\n",
       "      <td>1214.252</td>\n",
       "      <td>Besni</td>\n",
       "    </tr>\n",
       "    <tr>\n",
       "      <th>897</th>\n",
       "      <td>99657</td>\n",
       "      <td>431.706981</td>\n",
       "      <td>298.837323</td>\n",
       "      <td>0.721684</td>\n",
       "      <td>106264</td>\n",
       "      <td>0.741099</td>\n",
       "      <td>1292.828</td>\n",
       "      <td>Besni</td>\n",
       "    </tr>\n",
       "    <tr>\n",
       "      <th>898</th>\n",
       "      <td>93523</td>\n",
       "      <td>476.344094</td>\n",
       "      <td>254.176054</td>\n",
       "      <td>0.845739</td>\n",
       "      <td>97653</td>\n",
       "      <td>0.658798</td>\n",
       "      <td>1258.548</td>\n",
       "      <td>Besni</td>\n",
       "    </tr>\n",
       "    <tr>\n",
       "      <th>899</th>\n",
       "      <td>85609</td>\n",
       "      <td>512.081774</td>\n",
       "      <td>215.271976</td>\n",
       "      <td>0.907345</td>\n",
       "      <td>89197</td>\n",
       "      <td>0.632020</td>\n",
       "      <td>1272.862</td>\n",
       "      <td>Besni</td>\n",
       "    </tr>\n",
       "  </tbody>\n",
       "</table>\n",
       "<p>900 rows × 8 columns</p>\n",
       "</div>"
      ],
      "text/plain": [
       "      Area  MajorAxisLength  MinorAxisLength  Eccentricity  ConvexArea  \\\n",
       "0    87524       442.246011       253.291155      0.819738       90546   \n",
       "1    75166       406.690687       243.032436      0.801805       78789   \n",
       "2    90856       442.267048       266.328318      0.798354       93717   \n",
       "3    45928       286.540559       208.760042      0.684989       47336   \n",
       "4    79408       352.190770       290.827533      0.564011       81463   \n",
       "..     ...              ...              ...           ...         ...   \n",
       "895  83248       430.077308       247.838695      0.817263       85839   \n",
       "896  87350       440.735698       259.293149      0.808629       90899   \n",
       "897  99657       431.706981       298.837323      0.721684      106264   \n",
       "898  93523       476.344094       254.176054      0.845739       97653   \n",
       "899  85609       512.081774       215.271976      0.907345       89197   \n",
       "\n",
       "       Extent  Perimeter    Class  \n",
       "0    0.758651   1184.040  Kecimen  \n",
       "1    0.684130   1121.786  Kecimen  \n",
       "2    0.637613   1208.575  Kecimen  \n",
       "3    0.699599    844.162  Kecimen  \n",
       "4    0.792772   1073.251  Kecimen  \n",
       "..        ...        ...      ...  \n",
       "895  0.668793   1129.072    Besni  \n",
       "896  0.636476   1214.252    Besni  \n",
       "897  0.741099   1292.828    Besni  \n",
       "898  0.658798   1258.548    Besni  \n",
       "899  0.632020   1272.862    Besni  \n",
       "\n",
       "[900 rows x 8 columns]"
      ]
     },
     "execution_count": 388,
     "metadata": {},
     "output_type": "execute_result"
    }
   ],
   "source": [
    "data"
   ]
  },
  {
   "cell_type": "code",
   "execution_count": 389,
   "id": "4f47fe4a",
   "metadata": {},
   "outputs": [
    {
     "data": {
      "text/plain": [
       "Area               0\n",
       "MajorAxisLength    0\n",
       "MinorAxisLength    0\n",
       "Eccentricity       0\n",
       "ConvexArea         0\n",
       "Extent             0\n",
       "Perimeter          0\n",
       "Class              0\n",
       "dtype: int64"
      ]
     },
     "execution_count": 389,
     "metadata": {},
     "output_type": "execute_result"
    }
   ],
   "source": [
    "# data null값 측정하기\n",
    "\n",
    "data.isnull().sum()"
   ]
  },
  {
   "cell_type": "code",
   "execution_count": 390,
   "id": "f0b797fc",
   "metadata": {},
   "outputs": [
    {
     "name": "stdout",
     "output_type": "stream",
     "text": [
      "     Area  MajorAxisLength  MinorAxisLength  Eccentricity  ConvexArea  Extent  \\\n",
      "0     551              553              500           558         542     811   \n",
      "1     404              446              409           469         413     299   \n",
      "2     583              554              581           448         571     102   \n",
      "3      74               54              159           108          68     394   \n",
      "4     462              254              709            33         445     890   \n",
      "..    ...              ...              ...           ...         ...     ...   \n",
      "895   504              512              449           542         492     215   \n",
      "896   549              546              540           508         549      99   \n",
      "897   640              517              739           174         650     722   \n",
      "898   600              633              506           683         600     177   \n",
      "899   529              706              200           877         532      82   \n",
      "\n",
      "     Perimeter  Class  \n",
      "0          544      1  \n",
      "1          453      1  \n",
      "2          573      1  \n",
      "3           66      1  \n",
      "4          382      1  \n",
      "..         ...    ...  \n",
      "895        461      0  \n",
      "896        577      0  \n",
      "897        656      0  \n",
      "898        622      0  \n",
      "899        643      0  \n",
      "\n",
      "[900 rows x 8 columns]\n"
     ]
    }
   ],
   "source": [
    "from sklearn.preprocessing import LabelEncoder\n",
    "\n",
    "# 수치 변환\n",
    "\n",
    "le=LabelEncoder()\n",
    "for i in data.columns:\n",
    "\n",
    "    data[i]=le.fit_transform(data[i])\n",
    "    \n",
    "y1 = le.fit_transform(y)\n",
    "#Y = pd.get_dummies(y).values\n",
    "\n",
    "print(data)"
   ]
  },
  {
   "cell_type": "code",
   "execution_count": 391,
   "id": "87e6714d",
   "metadata": {},
   "outputs": [],
   "source": [
    "# X, y set 분류하기\n",
    "\n",
    "X = data.drop(columns=['Class'], axis=1).values\n",
    "y = data['Class'].values"
   ]
  },
  {
   "cell_type": "code",
   "execution_count": 392,
   "id": "ca47a94d",
   "metadata": {},
   "outputs": [
    {
     "data": {
      "text/plain": [
       "1    450\n",
       "0    450\n",
       "Name: Class, dtype: int64"
      ]
     },
     "execution_count": 392,
     "metadata": {},
     "output_type": "execute_result"
    }
   ],
   "source": [
    "# class 개수를 파악하기\n",
    "\n",
    "data['Class'].value_counts()"
   ]
  },
  {
   "cell_type": "code",
   "execution_count": 393,
   "id": "d3d07285",
   "metadata": {},
   "outputs": [],
   "source": [
    "from sklearn.model_selection import train_test_split\n",
    "X_train,X_test, y_train,y_test = train_test_split(X,Y,test_size=0.2,random_state=0)"
   ]
  },
  {
   "cell_type": "code",
   "execution_count": 394,
   "id": "4ec2bcc1",
   "metadata": {},
   "outputs": [],
   "source": [
    "# n_features : represents the number of features you want to have for each time step\n",
    "n_features = 1\n",
    "\n",
    "# Make X to 3D format\n",
    "X = X.reshape((X.shape[0], X.shape[1], n_features))"
   ]
  },
  {
   "cell_type": "code",
   "execution_count": 395,
   "id": "8a5603fb",
   "metadata": {},
   "outputs": [
    {
     "data": {
      "text/plain": [
       "(900, 7, 1)"
      ]
     },
     "execution_count": 395,
     "metadata": {},
     "output_type": "execute_result"
    }
   ],
   "source": [
    "X.shape"
   ]
  },
  {
   "cell_type": "code",
   "execution_count": 396,
   "id": "c432fb51",
   "metadata": {},
   "outputs": [],
   "source": [
    "import numpy as np\n",
    "\n",
    "# Make Y suitable for X.shape\n",
    "Y = np.argmax(Y, axis=1).reshape(-1, 1)"
   ]
  },
  {
   "cell_type": "code",
   "execution_count": 397,
   "id": "0bd842de",
   "metadata": {},
   "outputs": [
    {
     "data": {
      "text/plain": [
       "(900, 1)"
      ]
     },
     "execution_count": 397,
     "metadata": {},
     "output_type": "execute_result"
    }
   ],
   "source": [
    "Y.shape"
   ]
  },
  {
   "cell_type": "code",
   "execution_count": 399,
   "id": "f7f2d6fd",
   "metadata": {},
   "outputs": [
    {
     "data": {
      "text/plain": [
       "7"
      ]
     },
     "execution_count": 399,
     "metadata": {},
     "output_type": "execute_result"
    }
   ],
   "source": [
    "# X.shape[0] = rows, X.shape[1] = columns(In code, it's features)\n",
    "n_steps = X.shape[1]\n",
    "n_steps"
   ]
  },
  {
   "cell_type": "code",
   "execution_count": 400,
   "id": "d23f4af2",
   "metadata": {},
   "outputs": [],
   "source": [
    "from keras.models import Sequential\n",
    "from keras.layers import Dense\n",
    "from keras.layers import Flatten\n",
    "from tensorflow.keras import models\n",
    "from tensorflow.keras import layers\n",
    "from tensorflow.keras.optimizers import SGD,Adam\n",
    "from keras.layers.convolutional import Conv1D\n",
    "from keras.layers.convolutional import MaxPooling1D"
   ]
  },
  {
   "cell_type": "code",
   "execution_count": 401,
   "id": "f19788fe",
   "metadata": {},
   "outputs": [
    {
     "name": "stderr",
     "output_type": "stream",
     "text": [
      "WARNING:absl:`lr` is deprecated, please use `learning_rate` instead, or use the legacy optimizer, e.g.,tf.keras.optimizers.legacy.Adam.\n"
     ]
    },
    {
     "name": "stdout",
     "output_type": "stream",
     "text": [
      "Model: \"sequential_44\"\n",
      "_________________________________________________________________\n",
      " Layer (type)                Output Shape              Param #   \n",
      "=================================================================\n",
      " conv1d_59 (Conv1D)          (None, 6, 64)             192       \n",
      "                                                                 \n",
      " max_pooling1d_56 (MaxPoolin  (None, 3, 64)            0         \n",
      " g1D)                                                            \n",
      "                                                                 \n",
      " conv1d_60 (Conv1D)          (None, 2, 64)             8256      \n",
      "                                                                 \n",
      " max_pooling1d_57 (MaxPoolin  (None, 1, 64)            0         \n",
      " g1D)                                                            \n",
      "                                                                 \n",
      " flatten_36 (Flatten)        (None, 64)                0         \n",
      "                                                                 \n",
      " dense_126 (Dense)           (None, 70)                4550      \n",
      "                                                                 \n",
      " dense_127 (Dense)           (None, 50)                3550      \n",
      "                                                                 \n",
      " dense_128 (Dense)           (None, 1)                 51        \n",
      "                                                                 \n",
      "=================================================================\n",
      "Total params: 16,599\n",
      "Trainable params: 16,599\n",
      "Non-trainable params: 0\n",
      "_________________________________________________________________\n",
      "input_shape =>  7 1\n"
     ]
    }
   ],
   "source": [
    "# Make model\n",
    "def build_model():\n",
    "    model = Sequential()\n",
    "    model.add(Conv1D(filters=64, kernel_size=2, activation='relu',input_shape = (n_steps, n_features)))\n",
    "    model.add(MaxPooling1D(pool_size=2))\n",
    "    model.add(Conv1D(filters=64, kernel_size=2, activation='relu'))\n",
    "    model.add(MaxPooling1D(pool_size=2))\n",
    "    model.add(Flatten())\n",
    "    model.add(Dense(70, activation='relu'))\n",
    "    model.add(Dense(50, activation='relu'))\n",
    "    model.add(Dense(1, activation='sigmoid'))\n",
    "    model.compile(loss='binary_crossentropy', optimizer=Adam(lr=0.02), metrics=['accuracy'])\n",
    "    \n",
    "    return model\n",
    "\n",
    "model = build_model()\n",
    "\n",
    "model.summary()\n",
    "\n",
    "print(\"input_shape => \", n_steps, n_features)"
   ]
  },
  {
   "cell_type": "code",
   "execution_count": 402,
   "id": "884a58a9",
   "metadata": {},
   "outputs": [
    {
     "name": "stdout",
     "output_type": "stream",
     "text": [
      "Epoch 1/100\n",
      "45/45 [==============================] - 1s 7ms/step - loss: 3.6556 - accuracy: 0.6139 - val_loss: 0.9355 - val_accuracy: 0.7667\n",
      "Epoch 2/100\n",
      "45/45 [==============================] - 0s 3ms/step - loss: 0.7527 - accuracy: 0.7431 - val_loss: 0.5955 - val_accuracy: 0.7444\n",
      "Epoch 3/100\n",
      "45/45 [==============================] - 0s 2ms/step - loss: 0.5449 - accuracy: 0.7611 - val_loss: 0.5985 - val_accuracy: 0.7500\n",
      "Epoch 4/100\n",
      "45/45 [==============================] - 0s 3ms/step - loss: 0.5653 - accuracy: 0.7625 - val_loss: 0.8634 - val_accuracy: 0.7056\n",
      "Epoch 5/100\n",
      "45/45 [==============================] - 0s 3ms/step - loss: 0.5180 - accuracy: 0.7931 - val_loss: 0.5997 - val_accuracy: 0.7667\n",
      "Epoch 6/100\n",
      "45/45 [==============================] - 0s 2ms/step - loss: 0.4479 - accuracy: 0.7931 - val_loss: 0.4834 - val_accuracy: 0.7889\n",
      "Epoch 7/100\n",
      "45/45 [==============================] - 0s 3ms/step - loss: 0.5141 - accuracy: 0.7889 - val_loss: 0.6043 - val_accuracy: 0.7444\n",
      "Epoch 8/100\n",
      "45/45 [==============================] - 0s 3ms/step - loss: 0.4256 - accuracy: 0.8153 - val_loss: 0.4598 - val_accuracy: 0.8389\n",
      "Epoch 9/100\n",
      "45/45 [==============================] - 0s 3ms/step - loss: 0.4358 - accuracy: 0.8042 - val_loss: 0.4361 - val_accuracy: 0.8056\n",
      "Epoch 10/100\n",
      "45/45 [==============================] - 0s 3ms/step - loss: 0.4819 - accuracy: 0.7958 - val_loss: 0.4433 - val_accuracy: 0.8111\n",
      "Epoch 11/100\n",
      "45/45 [==============================] - 0s 3ms/step - loss: 0.6231 - accuracy: 0.7681 - val_loss: 0.4264 - val_accuracy: 0.8056\n",
      "Epoch 12/100\n",
      "45/45 [==============================] - 0s 3ms/step - loss: 0.5034 - accuracy: 0.7875 - val_loss: 0.4574 - val_accuracy: 0.8500\n",
      "Epoch 13/100\n",
      "45/45 [==============================] - 0s 3ms/step - loss: 0.3851 - accuracy: 0.8431 - val_loss: 0.4057 - val_accuracy: 0.8722\n",
      "Epoch 14/100\n",
      "45/45 [==============================] - 0s 2ms/step - loss: 0.4177 - accuracy: 0.8264 - val_loss: 0.3850 - val_accuracy: 0.8611\n",
      "Epoch 15/100\n",
      "45/45 [==============================] - 0s 3ms/step - loss: 0.3786 - accuracy: 0.8306 - val_loss: 0.3820 - val_accuracy: 0.8556\n",
      "Epoch 16/100\n",
      "45/45 [==============================] - 0s 3ms/step - loss: 0.3748 - accuracy: 0.8361 - val_loss: 0.3874 - val_accuracy: 0.8500\n",
      "Epoch 17/100\n",
      "45/45 [==============================] - 0s 3ms/step - loss: 0.4129 - accuracy: 0.8250 - val_loss: 0.3979 - val_accuracy: 0.8444\n",
      "Epoch 18/100\n",
      "45/45 [==============================] - 0s 3ms/step - loss: 0.4149 - accuracy: 0.8236 - val_loss: 0.4603 - val_accuracy: 0.8056\n",
      "Epoch 19/100\n",
      "45/45 [==============================] - 0s 3ms/step - loss: 0.4386 - accuracy: 0.8139 - val_loss: 0.4035 - val_accuracy: 0.8500\n",
      "Epoch 20/100\n",
      "45/45 [==============================] - 0s 3ms/step - loss: 0.4129 - accuracy: 0.8153 - val_loss: 0.3823 - val_accuracy: 0.8444\n",
      "Epoch 21/100\n",
      "45/45 [==============================] - 0s 3ms/step - loss: 0.4251 - accuracy: 0.8194 - val_loss: 0.7249 - val_accuracy: 0.6556\n",
      "Epoch 22/100\n",
      "45/45 [==============================] - 0s 3ms/step - loss: 0.3996 - accuracy: 0.8236 - val_loss: 0.3787 - val_accuracy: 0.8333\n",
      "Epoch 23/100\n",
      "45/45 [==============================] - 0s 3ms/step - loss: 0.3816 - accuracy: 0.8389 - val_loss: 0.3824 - val_accuracy: 0.8556\n",
      "Epoch 24/100\n",
      "45/45 [==============================] - 0s 3ms/step - loss: 0.3468 - accuracy: 0.8347 - val_loss: 0.3858 - val_accuracy: 0.8444\n",
      "Epoch 25/100\n",
      "45/45 [==============================] - 0s 3ms/step - loss: 0.3973 - accuracy: 0.8167 - val_loss: 0.4219 - val_accuracy: 0.8556\n",
      "Epoch 26/100\n",
      "45/45 [==============================] - 0s 3ms/step - loss: 0.4393 - accuracy: 0.8028 - val_loss: 0.3996 - val_accuracy: 0.8167\n",
      "Epoch 27/100\n",
      "45/45 [==============================] - 0s 3ms/step - loss: 0.3702 - accuracy: 0.8375 - val_loss: 0.3637 - val_accuracy: 0.8500\n",
      "Epoch 28/100\n",
      "45/45 [==============================] - 0s 3ms/step - loss: 0.3548 - accuracy: 0.8403 - val_loss: 0.4221 - val_accuracy: 0.8278\n",
      "Epoch 29/100\n",
      "45/45 [==============================] - 0s 3ms/step - loss: 0.3974 - accuracy: 0.8167 - val_loss: 0.5808 - val_accuracy: 0.7778\n",
      "Epoch 30/100\n",
      "45/45 [==============================] - 0s 3ms/step - loss: 0.4591 - accuracy: 0.7847 - val_loss: 0.4168 - val_accuracy: 0.8333\n",
      "Epoch 31/100\n",
      "45/45 [==============================] - 0s 3ms/step - loss: 0.3657 - accuracy: 0.8389 - val_loss: 0.3676 - val_accuracy: 0.8500\n",
      "Epoch 32/100\n",
      "45/45 [==============================] - 0s 3ms/step - loss: 0.3923 - accuracy: 0.8403 - val_loss: 0.4498 - val_accuracy: 0.8667\n",
      "Epoch 33/100\n",
      "45/45 [==============================] - 0s 3ms/step - loss: 0.4135 - accuracy: 0.8306 - val_loss: 0.4286 - val_accuracy: 0.8611\n",
      "Epoch 34/100\n",
      "45/45 [==============================] - 0s 3ms/step - loss: 0.3797 - accuracy: 0.8306 - val_loss: 0.3619 - val_accuracy: 0.8500\n",
      "Epoch 35/100\n",
      "45/45 [==============================] - 0s 3ms/step - loss: 0.3479 - accuracy: 0.8361 - val_loss: 0.3549 - val_accuracy: 0.8722\n",
      "Epoch 36/100\n",
      "45/45 [==============================] - 0s 3ms/step - loss: 0.3573 - accuracy: 0.8486 - val_loss: 0.3499 - val_accuracy: 0.8611\n",
      "Epoch 37/100\n",
      "45/45 [==============================] - 0s 3ms/step - loss: 0.3647 - accuracy: 0.8500 - val_loss: 0.4186 - val_accuracy: 0.8667\n",
      "Epoch 38/100\n",
      "45/45 [==============================] - 0s 3ms/step - loss: 0.3573 - accuracy: 0.8361 - val_loss: 0.3524 - val_accuracy: 0.8667\n",
      "Epoch 39/100\n",
      "45/45 [==============================] - 0s 3ms/step - loss: 0.3418 - accuracy: 0.8514 - val_loss: 0.3730 - val_accuracy: 0.8556\n",
      "Epoch 40/100\n",
      "45/45 [==============================] - 0s 3ms/step - loss: 0.4260 - accuracy: 0.8278 - val_loss: 0.3750 - val_accuracy: 0.8444\n",
      "Epoch 41/100\n",
      "45/45 [==============================] - 0s 3ms/step - loss: 0.4058 - accuracy: 0.8111 - val_loss: 0.3993 - val_accuracy: 0.8778\n",
      "Epoch 42/100\n",
      "45/45 [==============================] - 0s 3ms/step - loss: 0.4142 - accuracy: 0.8292 - val_loss: 0.3958 - val_accuracy: 0.8167\n",
      "Epoch 43/100\n",
      "45/45 [==============================] - 0s 3ms/step - loss: 0.3586 - accuracy: 0.8403 - val_loss: 0.3804 - val_accuracy: 0.8778\n",
      "Epoch 44/100\n",
      "45/45 [==============================] - 0s 3ms/step - loss: 0.3557 - accuracy: 0.8444 - val_loss: 0.4650 - val_accuracy: 0.8389\n",
      "Epoch 45/100\n",
      "45/45 [==============================] - 0s 3ms/step - loss: 0.3629 - accuracy: 0.8389 - val_loss: 0.3716 - val_accuracy: 0.8611\n",
      "Epoch 46/100\n",
      "45/45 [==============================] - 0s 3ms/step - loss: 0.3680 - accuracy: 0.8375 - val_loss: 0.4009 - val_accuracy: 0.8833\n",
      "Epoch 47/100\n",
      "45/45 [==============================] - 0s 3ms/step - loss: 0.3665 - accuracy: 0.8375 - val_loss: 0.3601 - val_accuracy: 0.8889\n",
      "Epoch 48/100\n",
      "45/45 [==============================] - 0s 3ms/step - loss: 0.3358 - accuracy: 0.8486 - val_loss: 0.4299 - val_accuracy: 0.8222\n",
      "Epoch 49/100\n",
      "45/45 [==============================] - 0s 3ms/step - loss: 0.3524 - accuracy: 0.8292 - val_loss: 0.4163 - val_accuracy: 0.8667\n",
      "Epoch 50/100\n",
      "45/45 [==============================] - 0s 3ms/step - loss: 0.3507 - accuracy: 0.8500 - val_loss: 0.3725 - val_accuracy: 0.8722\n",
      "Epoch 51/100\n",
      "45/45 [==============================] - 0s 3ms/step - loss: 0.3348 - accuracy: 0.8486 - val_loss: 0.3465 - val_accuracy: 0.8833\n",
      "Epoch 52/100\n",
      "45/45 [==============================] - 0s 3ms/step - loss: 0.3693 - accuracy: 0.8361 - val_loss: 0.3553 - val_accuracy: 0.8944\n",
      "Epoch 53/100\n",
      "45/45 [==============================] - 0s 3ms/step - loss: 0.3546 - accuracy: 0.8417 - val_loss: 0.4236 - val_accuracy: 0.8611\n",
      "Epoch 54/100\n",
      "45/45 [==============================] - 0s 3ms/step - loss: 0.3614 - accuracy: 0.8236 - val_loss: 0.3728 - val_accuracy: 0.8778\n",
      "Epoch 55/100\n",
      "45/45 [==============================] - 0s 3ms/step - loss: 0.3372 - accuracy: 0.8542 - val_loss: 0.3379 - val_accuracy: 0.8778\n",
      "Epoch 56/100\n",
      "45/45 [==============================] - 0s 3ms/step - loss: 0.3528 - accuracy: 0.8472 - val_loss: 0.3680 - val_accuracy: 0.8667\n",
      "Epoch 57/100\n",
      "45/45 [==============================] - 0s 2ms/step - loss: 0.3717 - accuracy: 0.8431 - val_loss: 0.3856 - val_accuracy: 0.8722\n",
      "Epoch 58/100\n",
      "45/45 [==============================] - 0s 3ms/step - loss: 0.3630 - accuracy: 0.8431 - val_loss: 0.3356 - val_accuracy: 0.8889\n"
     ]
    },
    {
     "name": "stdout",
     "output_type": "stream",
     "text": [
      "Epoch 59/100\n",
      "45/45 [==============================] - 0s 3ms/step - loss: 0.3547 - accuracy: 0.8389 - val_loss: 0.4579 - val_accuracy: 0.8444\n",
      "Epoch 60/100\n",
      "45/45 [==============================] - 0s 2ms/step - loss: 0.3564 - accuracy: 0.8472 - val_loss: 0.3809 - val_accuracy: 0.8278\n",
      "Epoch 61/100\n",
      "45/45 [==============================] - 0s 2ms/step - loss: 0.3497 - accuracy: 0.8375 - val_loss: 0.3682 - val_accuracy: 0.8444\n",
      "Epoch 62/100\n",
      "45/45 [==============================] - 0s 2ms/step - loss: 0.3437 - accuracy: 0.8347 - val_loss: 0.4467 - val_accuracy: 0.8333\n",
      "Epoch 63/100\n",
      "45/45 [==============================] - 0s 2ms/step - loss: 0.3621 - accuracy: 0.8417 - val_loss: 0.3559 - val_accuracy: 0.8833\n",
      "Epoch 64/100\n",
      "45/45 [==============================] - 0s 2ms/step - loss: 0.3334 - accuracy: 0.8444 - val_loss: 0.4208 - val_accuracy: 0.8278\n",
      "Epoch 65/100\n",
      "45/45 [==============================] - 0s 2ms/step - loss: 0.3622 - accuracy: 0.8444 - val_loss: 0.3515 - val_accuracy: 0.8611\n",
      "Epoch 66/100\n",
      "45/45 [==============================] - 0s 3ms/step - loss: 0.3285 - accuracy: 0.8569 - val_loss: 0.4468 - val_accuracy: 0.8722\n",
      "Epoch 67/100\n",
      "45/45 [==============================] - 0s 3ms/step - loss: 0.3790 - accuracy: 0.8403 - val_loss: 0.3454 - val_accuracy: 0.8722\n",
      "Epoch 68/100\n",
      "45/45 [==============================] - 0s 3ms/step - loss: 0.3554 - accuracy: 0.8597 - val_loss: 0.3270 - val_accuracy: 0.8667\n",
      "Epoch 69/100\n",
      "45/45 [==============================] - 0s 3ms/step - loss: 0.3549 - accuracy: 0.8542 - val_loss: 0.3581 - val_accuracy: 0.8333\n",
      "Epoch 70/100\n",
      "45/45 [==============================] - 0s 2ms/step - loss: 0.3365 - accuracy: 0.8472 - val_loss: 0.3347 - val_accuracy: 0.8833\n",
      "Epoch 71/100\n",
      "45/45 [==============================] - 0s 2ms/step - loss: 0.3212 - accuracy: 0.8556 - val_loss: 0.3509 - val_accuracy: 0.8556\n",
      "Epoch 72/100\n",
      "45/45 [==============================] - 0s 2ms/step - loss: 0.3364 - accuracy: 0.8514 - val_loss: 0.3406 - val_accuracy: 0.8667\n",
      "Epoch 73/100\n",
      "45/45 [==============================] - 0s 2ms/step - loss: 0.3248 - accuracy: 0.8653 - val_loss: 0.3540 - val_accuracy: 0.8667\n",
      "Epoch 74/100\n",
      "45/45 [==============================] - 0s 2ms/step - loss: 0.3354 - accuracy: 0.8569 - val_loss: 0.4442 - val_accuracy: 0.8333\n",
      "Epoch 75/100\n",
      "45/45 [==============================] - 0s 2ms/step - loss: 0.3667 - accuracy: 0.8306 - val_loss: 0.3436 - val_accuracy: 0.8722\n",
      "Epoch 76/100\n",
      "45/45 [==============================] - 0s 3ms/step - loss: 0.3417 - accuracy: 0.8556 - val_loss: 0.3349 - val_accuracy: 0.8722\n",
      "Epoch 77/100\n",
      "45/45 [==============================] - 0s 2ms/step - loss: 0.3516 - accuracy: 0.8444 - val_loss: 0.3639 - val_accuracy: 0.8667\n",
      "Epoch 78/100\n",
      "45/45 [==============================] - 0s 2ms/step - loss: 0.3498 - accuracy: 0.8417 - val_loss: 0.3816 - val_accuracy: 0.8889\n",
      "Epoch 79/100\n",
      "45/45 [==============================] - 0s 2ms/step - loss: 0.3353 - accuracy: 0.8472 - val_loss: 0.3583 - val_accuracy: 0.9000\n",
      "Epoch 80/100\n",
      "45/45 [==============================] - 0s 2ms/step - loss: 0.3591 - accuracy: 0.8458 - val_loss: 0.3806 - val_accuracy: 0.8556\n",
      "Epoch 81/100\n",
      "45/45 [==============================] - 0s 2ms/step - loss: 0.3395 - accuracy: 0.8486 - val_loss: 0.3899 - val_accuracy: 0.8611\n",
      "Epoch 82/100\n",
      "45/45 [==============================] - 0s 3ms/step - loss: 0.3324 - accuracy: 0.8542 - val_loss: 0.3235 - val_accuracy: 0.8889\n",
      "Epoch 83/100\n",
      "45/45 [==============================] - 0s 2ms/step - loss: 0.3359 - accuracy: 0.8542 - val_loss: 0.3685 - val_accuracy: 0.8167\n",
      "Epoch 84/100\n",
      "45/45 [==============================] - 0s 2ms/step - loss: 0.3363 - accuracy: 0.8319 - val_loss: 0.3520 - val_accuracy: 0.9000\n",
      "Epoch 85/100\n",
      "45/45 [==============================] - 0s 3ms/step - loss: 0.3439 - accuracy: 0.8597 - val_loss: 0.3562 - val_accuracy: 0.8889\n",
      "Epoch 86/100\n",
      "45/45 [==============================] - 0s 2ms/step - loss: 0.3695 - accuracy: 0.8319 - val_loss: 0.4456 - val_accuracy: 0.8667\n",
      "Epoch 87/100\n",
      "45/45 [==============================] - 0s 2ms/step - loss: 0.3391 - accuracy: 0.8514 - val_loss: 0.3532 - val_accuracy: 0.8889\n",
      "Epoch 88/100\n",
      "45/45 [==============================] - 0s 2ms/step - loss: 0.3483 - accuracy: 0.8458 - val_loss: 0.3538 - val_accuracy: 0.8667\n",
      "Epoch 89/100\n",
      "45/45 [==============================] - 0s 3ms/step - loss: 0.3407 - accuracy: 0.8639 - val_loss: 0.3969 - val_accuracy: 0.8056\n",
      "Epoch 90/100\n",
      "45/45 [==============================] - 0s 2ms/step - loss: 0.3385 - accuracy: 0.8458 - val_loss: 0.3268 - val_accuracy: 0.9000\n",
      "Epoch 91/100\n",
      "45/45 [==============================] - 0s 2ms/step - loss: 0.3300 - accuracy: 0.8625 - val_loss: 0.3627 - val_accuracy: 0.8778\n",
      "Epoch 92/100\n",
      "45/45 [==============================] - 0s 3ms/step - loss: 0.3173 - accuracy: 0.8625 - val_loss: 0.3671 - val_accuracy: 0.8500\n",
      "Epoch 93/100\n",
      "45/45 [==============================] - 0s 3ms/step - loss: 0.3461 - accuracy: 0.8417 - val_loss: 0.3397 - val_accuracy: 0.8778\n",
      "Epoch 94/100\n",
      "45/45 [==============================] - 0s 2ms/step - loss: 0.3214 - accuracy: 0.8639 - val_loss: 0.3837 - val_accuracy: 0.8500\n",
      "Epoch 95/100\n",
      "45/45 [==============================] - 0s 2ms/step - loss: 0.3300 - accuracy: 0.8528 - val_loss: 0.3935 - val_accuracy: 0.8833\n",
      "Epoch 96/100\n",
      "45/45 [==============================] - 0s 3ms/step - loss: 0.3397 - accuracy: 0.8458 - val_loss: 0.3510 - val_accuracy: 0.8722\n",
      "Epoch 97/100\n",
      "45/45 [==============================] - 0s 3ms/step - loss: 0.3265 - accuracy: 0.8556 - val_loss: 0.3391 - val_accuracy: 0.9056\n",
      "Epoch 98/100\n",
      "45/45 [==============================] - 0s 3ms/step - loss: 0.3180 - accuracy: 0.8667 - val_loss: 0.3350 - val_accuracy: 0.8889\n",
      "Epoch 99/100\n",
      "45/45 [==============================] - 0s 3ms/step - loss: 0.3194 - accuracy: 0.8583 - val_loss: 0.3672 - val_accuracy: 0.8833\n",
      "Epoch 100/100\n",
      "45/45 [==============================] - 0s 2ms/step - loss: 0.3550 - accuracy: 0.8375 - val_loss: 0.3571 - val_accuracy: 0.8278\n",
      "6/6 [==============================] - 0s 2ms/step\n"
     ]
    }
   ],
   "source": [
    "model_history=model.fit(x=X_train, y=y_train, epochs=100, batch_size=16,validation_data= (X_test,y_test))\n",
    "y_pred = model.predict(X_test)\n",
    "\n",
    "# Make equal Input, Output(test, pred)\n",
    "y_test_flat = y_test.flatten()\n",
    "y_pred_flat = y_pred.flatten()\n",
    "\n",
    "# Used In binary results\n",
    "y_test_class = (y_test_flat > 0.5).astype(int)\n",
    "y_pred_class = (y_pred_flat > 0.5).astype(int)"
   ]
  },
  {
   "cell_type": "code",
   "execution_count": 403,
   "id": "97ec3e80",
   "metadata": {},
   "outputs": [
    {
     "data": {
      "image/png": "[encoded data removed]",
      "text/plain": [
       "<Figure size 640x480 with 1 Axes>"
      ]
     },
     "metadata": {},
     "output_type": "display_data"
    }
   ],
   "source": [
    "import matplotlib.pyplot as plt\n",
    "import seaborn as sns\n",
    "\n",
    "loss =model_history.history['loss']\n",
    "val_loss =model_history.history['val_loss']\n",
    "epochs = range(1, len(loss) + 1)\n",
    "plt.plot(epochs, loss, 'y', label='Training loss')\n",
    "plt.plot(epochs, val_loss, 'r', label='Validation loss')\n",
    "plt.title('Training and validation loss')\n",
    "plt.xlabel('Epochs')\n",
    "plt.ylabel('Loss')\n",
    "plt.legend()\n",
    "plt.show()     "
   ]
  },
  {
   "cell_type": "code",
   "execution_count": 404,
   "id": "af1b1c50",
   "metadata": {},
   "outputs": [
    {
     "data": {
      "image/png": "[encoded data removed]",
      "text/plain": [
       "<Figure size 640x480 with 1 Axes>"
      ]
     },
     "metadata": {},
     "output_type": "display_data"
    }
   ],
   "source": [
    "acc =model_history.history['accuracy']\n",
    "val_acc =model_history.history['val_accuracy']\n",
    "plt.plot(epochs, acc, 'y', label='Training acc')\n",
    "plt.plot(epochs, val_acc, 'r', label='Validation acc')\n",
    "plt.title('Training and validation accuracy')\n",
    "plt.xlabel('Epochs')\n",
    "plt.ylabel('Accuracy')\n",
    "plt.legend()\n",
    "plt.show()"
   ]
  },
  {
   "cell_type": "code",
   "execution_count": 405,
   "id": "522759e7",
   "metadata": {},
   "outputs": [
    {
     "name": "stdout",
     "output_type": "stream",
     "text": [
      "              precision    recall  f1-score   support\n",
      "\n",
      "           0       0.78      0.94      0.85        97\n",
      "           1       0.91      0.70      0.79        83\n",
      "\n",
      "    accuracy                           0.83       180\n",
      "   macro avg       0.85      0.82      0.82       180\n",
      "weighted avg       0.84      0.83      0.82       180\n",
      "\n",
      "[[91  6]\n",
      " [25 58]]\n"
     ]
    }
   ],
   "source": [
    "# F1 score\n",
    "from sklearn.metrics import classification_report,confusion_matrix\n",
    "print(classification_report(y_test_class,y_pred_class))\n",
    "print(confusion_matrix(y_test_class,y_pred_class))"
   ]
  }
 ],
 "metadata": {
  "kernelspec": {
   "display_name": "Python 3 (ipykernel)",
   "language": "python",
   "name": "python3"
  },
  "language_info": {
   "codemirror_mode": {
    "name": "ipython",
    "version": 3
   },
   "file_extension": ".py",
   "mimetype": "text/x-python",
   "name": "python",
   "nbconvert_exporter": "python",
   "pygments_lexer": "ipython3",
   "version": "3.9.13"
  }
 },
 "nbformat": 4,
 "nbformat_minor": 5
}
