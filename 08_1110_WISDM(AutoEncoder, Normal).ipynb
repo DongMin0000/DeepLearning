{
 "cells": [
  {
   "cell_type": "code",
   "execution_count": 95,
   "id": "681e965e",
   "metadata": {},
   "outputs": [],
   "source": [
    "import pandas as pd\n",
    "import numpy as np\n",
    "import pickle\n",
    "import matplotlib.pyplot as plt\n",
    "from scipy import stats\n",
    "import tensorflow as tf\n",
    "import seaborn as sns\n",
    "from pylab import rcParams\n",
    "from sklearn.model_selection import train_test_split\n",
    "from keras.models import Model, load_model\n",
    "from keras.layers import Input, Dense\n",
    "from keras.callbacks import ModelCheckpoint, TensorBoard\n",
    "from keras import regularizers"
   ]
  },
  {
   "cell_type": "code",
   "execution_count": 96,
   "id": "2d45b5d5",
   "metadata": {},
   "outputs": [],
   "source": [
    "%matplotlib inline\n",
    "\n",
    "sns.set(style='whitegrid', palette='muted', font_scale=1.5)\n",
    "\n",
    "rcParams['figure.figsize'] = 14, 8\n",
    "\n",
    "# RANDOM_SEED와 LABELS 설정\n",
    "RANDOM_SEED = 42\n",
    "LABELS = [\"Sitting\", \"Jogging\"]"
   ]
  },
  {
   "cell_type": "code",
   "execution_count": 97,
   "id": "490cd283",
   "metadata": {},
   "outputs": [],
   "source": [
    "df = pd.read_csv('C:/Users/abc99/OneDrive/바탕 화면/2023 2학기 파일 전체 모음/딥러닝응용/WISDM.csv', index_col=0)"
   ]
  },
  {
   "cell_type": "code",
   "execution_count": 98,
   "id": "35924c55",
   "metadata": {},
   "outputs": [
    {
     "data": {
      "text/html": [
       "<div>\n",
       "<style scoped>\n",
       "    .dataframe tbody tr th:only-of-type {\n",
       "        vertical-align: middle;\n",
       "    }\n",
       "\n",
       "    .dataframe tbody tr th {\n",
       "        vertical-align: top;\n",
       "    }\n",
       "\n",
       "    .dataframe thead th {\n",
       "        text-align: right;\n",
       "    }\n",
       "</style>\n",
       "<table border=\"1\" class=\"dataframe\">\n",
       "  <thead>\n",
       "    <tr style=\"text-align: right;\">\n",
       "      <th></th>\n",
       "      <th>user-id</th>\n",
       "      <th>activity</th>\n",
       "      <th>timestamp</th>\n",
       "      <th>X</th>\n",
       "      <th>Y</th>\n",
       "      <th>Z</th>\n",
       "    </tr>\n",
       "  </thead>\n",
       "  <tbody>\n",
       "    <tr>\n",
       "      <th>0</th>\n",
       "      <td>33</td>\n",
       "      <td>Jogging</td>\n",
       "      <td>49105962326000</td>\n",
       "      <td>-0.694638</td>\n",
       "      <td>12.680544</td>\n",
       "      <td>0.503953</td>\n",
       "    </tr>\n",
       "    <tr>\n",
       "      <th>1</th>\n",
       "      <td>33</td>\n",
       "      <td>Jogging</td>\n",
       "      <td>49106062271000</td>\n",
       "      <td>5.012288</td>\n",
       "      <td>11.264028</td>\n",
       "      <td>0.953424</td>\n",
       "    </tr>\n",
       "    <tr>\n",
       "      <th>2</th>\n",
       "      <td>33</td>\n",
       "      <td>Jogging</td>\n",
       "      <td>49106112167000</td>\n",
       "      <td>4.903325</td>\n",
       "      <td>10.882658</td>\n",
       "      <td>-0.081722</td>\n",
       "    </tr>\n",
       "    <tr>\n",
       "      <th>3</th>\n",
       "      <td>33</td>\n",
       "      <td>Jogging</td>\n",
       "      <td>49106222305000</td>\n",
       "      <td>-0.612916</td>\n",
       "      <td>18.496431</td>\n",
       "      <td>3.023717</td>\n",
       "    </tr>\n",
       "    <tr>\n",
       "      <th>4</th>\n",
       "      <td>33</td>\n",
       "      <td>Jogging</td>\n",
       "      <td>49106332290000</td>\n",
       "      <td>-1.184970</td>\n",
       "      <td>12.108489</td>\n",
       "      <td>7.205164</td>\n",
       "    </tr>\n",
       "    <tr>\n",
       "      <th>...</th>\n",
       "      <td>...</td>\n",
       "      <td>...</td>\n",
       "      <td>...</td>\n",
       "      <td>...</td>\n",
       "      <td>...</td>\n",
       "      <td>...</td>\n",
       "    </tr>\n",
       "    <tr>\n",
       "      <th>1098199</th>\n",
       "      <td>19</td>\n",
       "      <td>Sitting</td>\n",
       "      <td>131623331483000</td>\n",
       "      <td>9.000000</td>\n",
       "      <td>-1.570000</td>\n",
       "      <td>1.690000</td>\n",
       "    </tr>\n",
       "    <tr>\n",
       "      <th>1098200</th>\n",
       "      <td>19</td>\n",
       "      <td>Sitting</td>\n",
       "      <td>131623371431000</td>\n",
       "      <td>9.040000</td>\n",
       "      <td>-1.460000</td>\n",
       "      <td>1.730000</td>\n",
       "    </tr>\n",
       "    <tr>\n",
       "      <th>1098201</th>\n",
       "      <td>19</td>\n",
       "      <td>Sitting</td>\n",
       "      <td>131623411592000</td>\n",
       "      <td>9.080000</td>\n",
       "      <td>-1.380000</td>\n",
       "      <td>1.690000</td>\n",
       "    </tr>\n",
       "    <tr>\n",
       "      <th>1098202</th>\n",
       "      <td>19</td>\n",
       "      <td>Sitting</td>\n",
       "      <td>131623491487000</td>\n",
       "      <td>9.000000</td>\n",
       "      <td>-1.460000</td>\n",
       "      <td>1.730000</td>\n",
       "    </tr>\n",
       "    <tr>\n",
       "      <th>1098203</th>\n",
       "      <td>19</td>\n",
       "      <td>Sitting</td>\n",
       "      <td>131623531465000</td>\n",
       "      <td>8.880000</td>\n",
       "      <td>-1.330000</td>\n",
       "      <td>1.610000</td>\n",
       "    </tr>\n",
       "  </tbody>\n",
       "</table>\n",
       "<p>1098203 rows × 6 columns</p>\n",
       "</div>"
      ],
      "text/plain": [
       "         user-id activity        timestamp         X          Y         Z\n",
       "0             33  Jogging   49105962326000 -0.694638  12.680544  0.503953\n",
       "1             33  Jogging   49106062271000  5.012288  11.264028  0.953424\n",
       "2             33  Jogging   49106112167000  4.903325  10.882658 -0.081722\n",
       "3             33  Jogging   49106222305000 -0.612916  18.496431  3.023717\n",
       "4             33  Jogging   49106332290000 -1.184970  12.108489  7.205164\n",
       "...          ...      ...              ...       ...        ...       ...\n",
       "1098199       19  Sitting  131623331483000  9.000000  -1.570000  1.690000\n",
       "1098200       19  Sitting  131623371431000  9.040000  -1.460000  1.730000\n",
       "1098201       19  Sitting  131623411592000  9.080000  -1.380000  1.690000\n",
       "1098202       19  Sitting  131623491487000  9.000000  -1.460000  1.730000\n",
       "1098203       19  Sitting  131623531465000  8.880000  -1.330000  1.610000\n",
       "\n",
       "[1098203 rows x 6 columns]"
      ]
     },
     "execution_count": 98,
     "metadata": {},
     "output_type": "execute_result"
    }
   ],
   "source": [
    "df"
   ]
  },
  {
   "cell_type": "code",
   "execution_count": 99,
   "id": "1695de50",
   "metadata": {},
   "outputs": [],
   "source": [
    "df = df[['activity']]"
   ]
  },
  {
   "cell_type": "code",
   "execution_count": 100,
   "id": "9b34eca0",
   "metadata": {},
   "outputs": [],
   "source": [
    "df = pd.get_dummies(df, columns=['activity'])"
   ]
  },
  {
   "cell_type": "code",
   "execution_count": 101,
   "id": "ef4a1d2d",
   "metadata": {},
   "outputs": [
    {
     "data": {
      "text/html": [
       "<div>\n",
       "<style scoped>\n",
       "    .dataframe tbody tr th:only-of-type {\n",
       "        vertical-align: middle;\n",
       "    }\n",
       "\n",
       "    .dataframe tbody tr th {\n",
       "        vertical-align: top;\n",
       "    }\n",
       "\n",
       "    .dataframe thead th {\n",
       "        text-align: right;\n",
       "    }\n",
       "</style>\n",
       "<table border=\"1\" class=\"dataframe\">\n",
       "  <thead>\n",
       "    <tr style=\"text-align: right;\">\n",
       "      <th></th>\n",
       "      <th>activity_Downstairs</th>\n",
       "      <th>activity_Jogging</th>\n",
       "      <th>activity_Sitting</th>\n",
       "      <th>activity_Standing</th>\n",
       "      <th>activity_Upstairs</th>\n",
       "      <th>activity_Walking</th>\n",
       "    </tr>\n",
       "  </thead>\n",
       "  <tbody>\n",
       "    <tr>\n",
       "      <th>0</th>\n",
       "      <td>0</td>\n",
       "      <td>1</td>\n",
       "      <td>0</td>\n",
       "      <td>0</td>\n",
       "      <td>0</td>\n",
       "      <td>0</td>\n",
       "    </tr>\n",
       "    <tr>\n",
       "      <th>1</th>\n",
       "      <td>0</td>\n",
       "      <td>1</td>\n",
       "      <td>0</td>\n",
       "      <td>0</td>\n",
       "      <td>0</td>\n",
       "      <td>0</td>\n",
       "    </tr>\n",
       "    <tr>\n",
       "      <th>2</th>\n",
       "      <td>0</td>\n",
       "      <td>1</td>\n",
       "      <td>0</td>\n",
       "      <td>0</td>\n",
       "      <td>0</td>\n",
       "      <td>0</td>\n",
       "    </tr>\n",
       "    <tr>\n",
       "      <th>3</th>\n",
       "      <td>0</td>\n",
       "      <td>1</td>\n",
       "      <td>0</td>\n",
       "      <td>0</td>\n",
       "      <td>0</td>\n",
       "      <td>0</td>\n",
       "    </tr>\n",
       "    <tr>\n",
       "      <th>4</th>\n",
       "      <td>0</td>\n",
       "      <td>1</td>\n",
       "      <td>0</td>\n",
       "      <td>0</td>\n",
       "      <td>0</td>\n",
       "      <td>0</td>\n",
       "    </tr>\n",
       "    <tr>\n",
       "      <th>...</th>\n",
       "      <td>...</td>\n",
       "      <td>...</td>\n",
       "      <td>...</td>\n",
       "      <td>...</td>\n",
       "      <td>...</td>\n",
       "      <td>...</td>\n",
       "    </tr>\n",
       "    <tr>\n",
       "      <th>1098199</th>\n",
       "      <td>0</td>\n",
       "      <td>0</td>\n",
       "      <td>1</td>\n",
       "      <td>0</td>\n",
       "      <td>0</td>\n",
       "      <td>0</td>\n",
       "    </tr>\n",
       "    <tr>\n",
       "      <th>1098200</th>\n",
       "      <td>0</td>\n",
       "      <td>0</td>\n",
       "      <td>1</td>\n",
       "      <td>0</td>\n",
       "      <td>0</td>\n",
       "      <td>0</td>\n",
       "    </tr>\n",
       "    <tr>\n",
       "      <th>1098201</th>\n",
       "      <td>0</td>\n",
       "      <td>0</td>\n",
       "      <td>1</td>\n",
       "      <td>0</td>\n",
       "      <td>0</td>\n",
       "      <td>0</td>\n",
       "    </tr>\n",
       "    <tr>\n",
       "      <th>1098202</th>\n",
       "      <td>0</td>\n",
       "      <td>0</td>\n",
       "      <td>1</td>\n",
       "      <td>0</td>\n",
       "      <td>0</td>\n",
       "      <td>0</td>\n",
       "    </tr>\n",
       "    <tr>\n",
       "      <th>1098203</th>\n",
       "      <td>0</td>\n",
       "      <td>0</td>\n",
       "      <td>1</td>\n",
       "      <td>0</td>\n",
       "      <td>0</td>\n",
       "      <td>0</td>\n",
       "    </tr>\n",
       "  </tbody>\n",
       "</table>\n",
       "<p>1098203 rows × 6 columns</p>\n",
       "</div>"
      ],
      "text/plain": [
       "         activity_Downstairs  activity_Jogging  activity_Sitting  \\\n",
       "0                          0                 1                 0   \n",
       "1                          0                 1                 0   \n",
       "2                          0                 1                 0   \n",
       "3                          0                 1                 0   \n",
       "4                          0                 1                 0   \n",
       "...                      ...               ...               ...   \n",
       "1098199                    0                 0                 1   \n",
       "1098200                    0                 0                 1   \n",
       "1098201                    0                 0                 1   \n",
       "1098202                    0                 0                 1   \n",
       "1098203                    0                 0                 1   \n",
       "\n",
       "         activity_Standing  activity_Upstairs  activity_Walking  \n",
       "0                        0                  0                 0  \n",
       "1                        0                  0                 0  \n",
       "2                        0                  0                 0  \n",
       "3                        0                  0                 0  \n",
       "4                        0                  0                 0  \n",
       "...                    ...                ...               ...  \n",
       "1098199                  0                  0                 0  \n",
       "1098200                  0                  0                 0  \n",
       "1098201                  0                  0                 0  \n",
       "1098202                  0                  0                 0  \n",
       "1098203                  0                  0                 0  \n",
       "\n",
       "[1098203 rows x 6 columns]"
      ]
     },
     "execution_count": 101,
     "metadata": {},
     "output_type": "execute_result"
    }
   ],
   "source": [
    "df"
   ]
  },
  {
   "cell_type": "code",
   "execution_count": 104,
   "id": "400ff971",
   "metadata": {},
   "outputs": [],
   "source": [
    "Jogging = df[df['activity_Jogging'] == 1].head(4499).copy()\n",
    "Jogging['activity'] = 'Jogging'\n",
    "\n",
    "Sitting = df[df['activity_Sitting'] == 1].head(4500).copy()\n",
    "Sitting['activity'] = 'Sitting'\n",
    "\n",
    "df_new = pd.concat([Jogging, Sitting])\n",
    "df_new['activity'] = LabelEncoder().fit_transform(df_new['activity'])\n"
   ]
  },
  {
   "cell_type": "code",
   "execution_count": 105,
   "id": "39d137f9",
   "metadata": {},
   "outputs": [],
   "source": [
    "from sklearn.model_selection import train_test_split\n",
    "from keras.layers import Input, Dense\n",
    "from keras.models import Model\n",
    "from keras import regularizers\n",
    "from keras.callbacks import ModelCheckpoint, TensorBoard\n",
    "import seaborn as sns\n",
    "import matplotlib.pyplot as plt\n",
    "from sklearn.metrics import confusion_matrix, precision_recall_fscore_support, accuracy_score\n",
    "from sklearn.preprocessing import LabelEncoder"
   ]
  },
  {
   "cell_type": "code",
   "execution_count": 106,
   "id": "6150693d",
   "metadata": {},
   "outputs": [],
   "source": [
    "# 데이터를 훈련 세트와 테스트 세트로 분리합니다\n",
    "X_train, X_test = train_test_split(df_new, test_size=0.25, random_state=42)\n",
    "\n",
    "# 정상 데이터만 사용하여 훈련합니다\n",
    "normal = X_train[X_train['activity'] == 0]\n",
    "X_train_normal_train = normal.drop(['activity'], axis=1).values"
   ]
  },
  {
   "cell_type": "code",
   "execution_count": 107,
   "id": "f9159d08",
   "metadata": {},
   "outputs": [],
   "source": [
    "y_test = X_test['activity']\n",
    "X_test = X_test.drop(['activity'], axis=1).values"
   ]
  },
  {
   "cell_type": "code",
   "execution_count": 108,
   "id": "a1360466",
   "metadata": {},
   "outputs": [],
   "source": [
    "input_dim = X_train_normal_train.shape[1]\n",
    "encoding_dim = 14\n",
    "\n",
    "input_layer = Input(shape=(input_dim, ))\n",
    "encoder = Dense(encoding_dim, activation=\"tanh\", activity_regularizer=regularizers.l1(10e-5))(input_layer)\n",
    "encoder = Dense(int(encoding_dim / 2), activation=\"relu\")(encoder)\n",
    "decoder = Dense(int(encoding_dim / 2), activation='tanh')(encoder)\n",
    "decoder = Dense(input_dim, activation='relu')(decoder)\n",
    "\n",
    "autoencoder = Model(inputs=input_layer, outputs=decoder)"
   ]
  },
  {
   "cell_type": "code",
   "execution_count": 109,
   "id": "7e78ac0a",
   "metadata": {},
   "outputs": [
    {
     "name": "stdout",
     "output_type": "stream",
     "text": [
      "Epoch 1/100\n",
      "104/107 [============================>.] - ETA: 0s - loss: 0.1114 - accuracy: 0.5769  "
     ]
    },
    {
     "name": "stderr",
     "output_type": "stream",
     "text": [
      "WARNING:absl:Found untraced functions such as _update_step_xla while saving (showing 1 of 1). These functions will not be directly callable after loading.\n"
     ]
    },
    {
     "name": "stdout",
     "output_type": "stream",
     "text": [
      "INFO:tensorflow:Assets written to: model.h6\\assets\n"
     ]
    },
    {
     "name": "stderr",
     "output_type": "stream",
     "text": [
      "INFO:tensorflow:Assets written to: model.h6\\assets\n"
     ]
    },
    {
     "name": "stdout",
     "output_type": "stream",
     "text": [
      "107/107 [==============================] - 3s 13ms/step - loss: 0.1091 - accuracy: 0.5858 - val_loss: 0.1039 - val_accuracy: 0.4889\n",
      "Epoch 2/100\n",
      "107/107 [==============================] - 0s 3ms/step - loss: 5.4389e-04 - accuracy: 1.0000 - val_loss: 0.1079 - val_accuracy: 0.4889\n",
      "Epoch 3/100\n",
      "107/107 [==============================] - 0s 2ms/step - loss: 4.3670e-04 - accuracy: 1.0000 - val_loss: 0.1078 - val_accuracy: 0.4889\n",
      "Epoch 4/100\n",
      "107/107 [==============================] - 0s 2ms/step - loss: 4.3195e-04 - accuracy: 1.0000 - val_loss: 0.1078 - val_accuracy: 0.4889\n",
      "Epoch 5/100\n",
      "107/107 [==============================] - 0s 3ms/step - loss: 4.2626e-04 - accuracy: 1.0000 - val_loss: 0.1077 - val_accuracy: 0.4889\n",
      "Epoch 6/100\n",
      "107/107 [==============================] - 0s 2ms/step - loss: 4.1965e-04 - accuracy: 1.0000 - val_loss: 0.1076 - val_accuracy: 0.4889\n",
      "Epoch 7/100\n",
      "107/107 [==============================] - 0s 2ms/step - loss: 4.1225e-04 - accuracy: 1.0000 - val_loss: 0.1074 - val_accuracy: 0.4889\n",
      "Epoch 8/100\n",
      "107/107 [==============================] - 0s 2ms/step - loss: 4.0407e-04 - accuracy: 1.0000 - val_loss: 0.1073 - val_accuracy: 0.4889\n",
      "Epoch 9/100\n",
      "107/107 [==============================] - 0s 2ms/step - loss: 3.9514e-04 - accuracy: 1.0000 - val_loss: 0.1071 - val_accuracy: 0.4889\n",
      "Epoch 10/100\n",
      "107/107 [==============================] - 0s 3ms/step - loss: 3.8525e-04 - accuracy: 1.0000 - val_loss: 0.1070 - val_accuracy: 0.4889\n",
      "Epoch 11/100\n",
      "107/107 [==============================] - 0s 3ms/step - loss: 3.7439e-04 - accuracy: 1.0000 - val_loss: 0.1068 - val_accuracy: 0.4889\n",
      "Epoch 12/100\n",
      "107/107 [==============================] - 0s 4ms/step - loss: 3.6253e-04 - accuracy: 1.0000 - val_loss: 0.1066 - val_accuracy: 0.4889\n",
      "Epoch 13/100\n",
      "107/107 [==============================] - 0s 3ms/step - loss: 3.4967e-04 - accuracy: 1.0000 - val_loss: 0.1063 - val_accuracy: 0.4889\n",
      "Epoch 14/100\n",
      "107/107 [==============================] - 0s 3ms/step - loss: 3.3818e-04 - accuracy: 1.0000 - val_loss: 0.1059 - val_accuracy: 0.4889\n",
      "Epoch 15/100\n",
      "107/107 [==============================] - 0s 3ms/step - loss: 3.3053e-04 - accuracy: 1.0000 - val_loss: 0.1055 - val_accuracy: 0.4889\n",
      "Epoch 16/100\n",
      "107/107 [==============================] - 0s 3ms/step - loss: 3.2328e-04 - accuracy: 1.0000 - val_loss: 0.1050 - val_accuracy: 0.4889\n",
      "Epoch 17/100\n",
      "107/107 [==============================] - 0s 3ms/step - loss: 3.1614e-04 - accuracy: 1.0000 - val_loss: 0.1045 - val_accuracy: 0.4889\n",
      "Epoch 18/100\n",
      "107/107 [==============================] - 0s 3ms/step - loss: 3.0862e-04 - accuracy: 1.0000 - val_loss: 0.1041 - val_accuracy: 0.4889\n",
      "Epoch 19/100\n",
      "101/107 [===========================>..] - ETA: 0s - loss: 3.0130e-04 - accuracy: 1.0000"
     ]
    },
    {
     "name": "stderr",
     "output_type": "stream",
     "text": [
      "WARNING:absl:Found untraced functions such as _update_step_xla while saving (showing 1 of 1). These functions will not be directly callable after loading.\n"
     ]
    },
    {
     "name": "stdout",
     "output_type": "stream",
     "text": [
      "INFO:tensorflow:Assets written to: model.h6\\assets\n"
     ]
    },
    {
     "name": "stderr",
     "output_type": "stream",
     "text": [
      "INFO:tensorflow:Assets written to: model.h6\\assets\n"
     ]
    },
    {
     "name": "stdout",
     "output_type": "stream",
     "text": [
      "107/107 [==============================] - 1s 12ms/step - loss: 3.0111e-04 - accuracy: 1.0000 - val_loss: 0.1038 - val_accuracy: 0.4889\n",
      "Epoch 20/100\n",
      " 85/107 [======================>.......] - ETA: 0s - loss: 2.9404e-04 - accuracy: 1.0000"
     ]
    },
    {
     "name": "stderr",
     "output_type": "stream",
     "text": [
      "WARNING:absl:Found untraced functions such as _update_step_xla while saving (showing 1 of 1). These functions will not be directly callable after loading.\n"
     ]
    },
    {
     "name": "stdout",
     "output_type": "stream",
     "text": [
      "INFO:tensorflow:Assets written to: model.h6\\assets\n"
     ]
    },
    {
     "name": "stderr",
     "output_type": "stream",
     "text": [
      "INFO:tensorflow:Assets written to: model.h6\\assets\n"
     ]
    },
    {
     "name": "stdout",
     "output_type": "stream",
     "text": [
      "107/107 [==============================] - 1s 13ms/step - loss: 2.9323e-04 - accuracy: 1.0000 - val_loss: 0.1034 - val_accuracy: 0.4889\n",
      "Epoch 21/100\n",
      " 93/107 [=========================>....] - ETA: 0s - loss: 2.8539e-04 - accuracy: 1.0000"
     ]
    },
    {
     "name": "stderr",
     "output_type": "stream",
     "text": [
      "WARNING:absl:Found untraced functions such as _update_step_xla while saving (showing 1 of 1). These functions will not be directly callable after loading.\n"
     ]
    },
    {
     "name": "stdout",
     "output_type": "stream",
     "text": [
      "INFO:tensorflow:Assets written to: model.h6\\assets\n"
     ]
    },
    {
     "name": "stderr",
     "output_type": "stream",
     "text": [
      "INFO:tensorflow:Assets written to: model.h6\\assets\n"
     ]
    },
    {
     "name": "stdout",
     "output_type": "stream",
     "text": [
      "107/107 [==============================] - 1s 11ms/step - loss: 2.8486e-04 - accuracy: 1.0000 - val_loss: 0.1031 - val_accuracy: 0.4889\n",
      "Epoch 22/100\n",
      "101/107 [===========================>..] - ETA: 0s - loss: 2.7620e-04 - accuracy: 1.0000"
     ]
    },
    {
     "name": "stderr",
     "output_type": "stream",
     "text": [
      "WARNING:absl:Found untraced functions such as _update_step_xla while saving (showing 1 of 1). These functions will not be directly callable after loading.\n"
     ]
    },
    {
     "name": "stdout",
     "output_type": "stream",
     "text": [
      "INFO:tensorflow:Assets written to: model.h6\\assets\n"
     ]
    },
    {
     "name": "stderr",
     "output_type": "stream",
     "text": [
      "INFO:tensorflow:Assets written to: model.h6\\assets\n"
     ]
    },
    {
     "name": "stdout",
     "output_type": "stream",
     "text": [
      "107/107 [==============================] - 3s 29ms/step - loss: 2.7598e-04 - accuracy: 1.0000 - val_loss: 0.1027 - val_accuracy: 0.4889\n",
      "Epoch 23/100\n",
      "101/107 [===========================>..] - ETA: 0s - loss: 2.6751e-04 - accuracy: 1.0000"
     ]
    },
    {
     "name": "stderr",
     "output_type": "stream",
     "text": [
      "WARNING:absl:Found untraced functions such as _update_step_xla while saving (showing 1 of 1). These functions will not be directly callable after loading.\n"
     ]
    },
    {
     "name": "stdout",
     "output_type": "stream",
     "text": [
      "INFO:tensorflow:Assets written to: model.h6\\assets\n"
     ]
    },
    {
     "name": "stderr",
     "output_type": "stream",
     "text": [
      "INFO:tensorflow:Assets written to: model.h6\\assets\n"
     ]
    },
    {
     "name": "stdout",
     "output_type": "stream",
     "text": [
      "107/107 [==============================] - 1s 10ms/step - loss: 2.6729e-04 - accuracy: 1.0000 - val_loss: 0.1022 - val_accuracy: 0.4889\n",
      "Epoch 24/100\n",
      "103/107 [===========================>..] - ETA: 0s - loss: 2.5856e-04 - accuracy: 1.0000"
     ]
    },
    {
     "name": "stderr",
     "output_type": "stream",
     "text": [
      "WARNING:absl:Found untraced functions such as _update_step_xla while saving (showing 1 of 1). These functions will not be directly callable after loading.\n"
     ]
    },
    {
     "name": "stdout",
     "output_type": "stream",
     "text": [
      "INFO:tensorflow:Assets written to: model.h6\\assets\n"
     ]
    },
    {
     "name": "stderr",
     "output_type": "stream",
     "text": [
      "INFO:tensorflow:Assets written to: model.h6\\assets\n"
     ]
    },
    {
     "name": "stdout",
     "output_type": "stream",
     "text": [
      "107/107 [==============================] - 1s 11ms/step - loss: 2.5842e-04 - accuracy: 1.0000 - val_loss: 0.1018 - val_accuracy: 0.4889\n",
      "Epoch 25/100\n",
      "105/107 [============================>.] - ETA: 0s - loss: 2.4915e-04 - accuracy: 1.0000"
     ]
    },
    {
     "name": "stderr",
     "output_type": "stream",
     "text": [
      "WARNING:absl:Found untraced functions such as _update_step_xla while saving (showing 1 of 1). These functions will not be directly callable after loading.\n"
     ]
    },
    {
     "name": "stdout",
     "output_type": "stream",
     "text": [
      "INFO:tensorflow:Assets written to: model.h6\\assets\n"
     ]
    },
    {
     "name": "stderr",
     "output_type": "stream",
     "text": [
      "INFO:tensorflow:Assets written to: model.h6\\assets\n"
     ]
    },
    {
     "name": "stdout",
     "output_type": "stream",
     "text": [
      "107/107 [==============================] - 1s 10ms/step - loss: 2.4909e-04 - accuracy: 1.0000 - val_loss: 0.1013 - val_accuracy: 0.4889\n",
      "Epoch 26/100\n",
      "102/107 [===========================>..] - ETA: 0s - loss: 2.3946e-04 - accuracy: 1.0000"
     ]
    },
    {
     "name": "stderr",
     "output_type": "stream",
     "text": [
      "WARNING:absl:Found untraced functions such as _update_step_xla while saving (showing 1 of 1). These functions will not be directly callable after loading.\n"
     ]
    },
    {
     "name": "stdout",
     "output_type": "stream",
     "text": [
      "INFO:tensorflow:Assets written to: model.h6\\assets\n"
     ]
    },
    {
     "name": "stderr",
     "output_type": "stream",
     "text": [
      "INFO:tensorflow:Assets written to: model.h6\\assets\n"
     ]
    },
    {
     "name": "stdout",
     "output_type": "stream",
     "text": [
      "107/107 [==============================] - 1s 11ms/step - loss: 2.3926e-04 - accuracy: 1.0000 - val_loss: 0.1009 - val_accuracy: 0.4889\n",
      "Epoch 27/100\n",
      "101/107 [===========================>..] - ETA: 0s - loss: 2.2923e-04 - accuracy: 1.0000"
     ]
    },
    {
     "name": "stderr",
     "output_type": "stream",
     "text": [
      "WARNING:absl:Found untraced functions such as _update_step_xla while saving (showing 1 of 1). These functions will not be directly callable after loading.\n"
     ]
    },
    {
     "name": "stdout",
     "output_type": "stream",
     "text": [
      "INFO:tensorflow:Assets written to: model.h6\\assets\n"
     ]
    },
    {
     "name": "stderr",
     "output_type": "stream",
     "text": [
      "INFO:tensorflow:Assets written to: model.h6\\assets\n"
     ]
    },
    {
     "name": "stdout",
     "output_type": "stream",
     "text": [
      "107/107 [==============================] - 1s 10ms/step - loss: 2.2897e-04 - accuracy: 1.0000 - val_loss: 0.1005 - val_accuracy: 0.4889\n",
      "Epoch 28/100\n",
      " 89/107 [=======================>......] - ETA: 0s - loss: 2.1932e-04 - accuracy: 1.0000"
     ]
    },
    {
     "name": "stderr",
     "output_type": "stream",
     "text": [
      "WARNING:absl:Found untraced functions such as _update_step_xla while saving (showing 1 of 1). These functions will not be directly callable after loading.\n"
     ]
    },
    {
     "name": "stdout",
     "output_type": "stream",
     "text": [
      "INFO:tensorflow:Assets written to: model.h6\\assets\n"
     ]
    },
    {
     "name": "stderr",
     "output_type": "stream",
     "text": [
      "INFO:tensorflow:Assets written to: model.h6\\assets\n"
     ]
    },
    {
     "name": "stdout",
     "output_type": "stream",
     "text": [
      "107/107 [==============================] - 1s 11ms/step - loss: 2.1859e-04 - accuracy: 1.0000 - val_loss: 0.1002 - val_accuracy: 0.4889\n",
      "Epoch 29/100\n",
      " 89/107 [=======================>......] - ETA: 0s - loss: 2.1043e-04 - accuracy: 1.0000"
     ]
    },
    {
     "name": "stderr",
     "output_type": "stream",
     "text": [
      "WARNING:absl:Found untraced functions such as _update_step_xla while saving (showing 1 of 1). These functions will not be directly callable after loading.\n"
     ]
    },
    {
     "name": "stdout",
     "output_type": "stream",
     "text": [
      "INFO:tensorflow:Assets written to: model.h6\\assets\n"
     ]
    },
    {
     "name": "stderr",
     "output_type": "stream",
     "text": [
      "INFO:tensorflow:Assets written to: model.h6\\assets\n"
     ]
    },
    {
     "name": "stdout",
     "output_type": "stream",
     "text": [
      "107/107 [==============================] - 1s 12ms/step - loss: 2.0971e-04 - accuracy: 1.0000 - val_loss: 0.1000 - val_accuracy: 0.4889\n",
      "Epoch 30/100\n",
      " 86/107 [=======================>......] - ETA: 0s - loss: 2.0151e-04 - accuracy: 1.0000"
     ]
    },
    {
     "name": "stderr",
     "output_type": "stream",
     "text": [
      "WARNING:absl:Found untraced functions such as _update_step_xla while saving (showing 1 of 1). These functions will not be directly callable after loading.\n"
     ]
    },
    {
     "name": "stdout",
     "output_type": "stream",
     "text": [
      "INFO:tensorflow:Assets written to: model.h6\\assets\n"
     ]
    },
    {
     "name": "stderr",
     "output_type": "stream",
     "text": [
      "INFO:tensorflow:Assets written to: model.h6\\assets\n"
     ]
    },
    {
     "name": "stdout",
     "output_type": "stream",
     "text": [
      "107/107 [==============================] - 1s 10ms/step - loss: 2.0063e-04 - accuracy: 1.0000 - val_loss: 0.0998 - val_accuracy: 0.4889\n",
      "Epoch 31/100\n",
      " 95/107 [=========================>....] - ETA: 0s - loss: 1.9191e-04 - accuracy: 1.0000"
     ]
    },
    {
     "name": "stderr",
     "output_type": "stream",
     "text": [
      "WARNING:absl:Found untraced functions such as _update_step_xla while saving (showing 1 of 1). These functions will not be directly callable after loading.\n"
     ]
    },
    {
     "name": "stdout",
     "output_type": "stream",
     "text": [
      "INFO:tensorflow:Assets written to: model.h6\\assets\n"
     ]
    },
    {
     "name": "stderr",
     "output_type": "stream",
     "text": [
      "INFO:tensorflow:Assets written to: model.h6\\assets\n"
     ]
    },
    {
     "name": "stdout",
     "output_type": "stream",
     "text": [
      "107/107 [==============================] - 1s 11ms/step - loss: 1.9148e-04 - accuracy: 1.0000 - val_loss: 0.0996 - val_accuracy: 0.4889\n",
      "Epoch 32/100\n",
      " 93/107 [=========================>....] - ETA: 0s - loss: 1.8368e-04 - accuracy: 1.0000"
     ]
    },
    {
     "name": "stderr",
     "output_type": "stream",
     "text": [
      "WARNING:absl:Found untraced functions such as _update_step_xla while saving (showing 1 of 1). These functions will not be directly callable after loading.\n"
     ]
    },
    {
     "name": "stdout",
     "output_type": "stream",
     "text": [
      "INFO:tensorflow:Assets written to: model.h6\\assets\n"
     ]
    },
    {
     "name": "stderr",
     "output_type": "stream",
     "text": [
      "INFO:tensorflow:Assets written to: model.h6\\assets\n"
     ]
    },
    {
     "name": "stdout",
     "output_type": "stream",
     "text": [
      "107/107 [==============================] - 1s 10ms/step - loss: 1.8316e-04 - accuracy: 1.0000 - val_loss: 0.0995 - val_accuracy: 0.4889\n",
      "Epoch 33/100\n",
      " 97/107 [==========================>...] - ETA: 0s - loss: 1.7491e-04 - accuracy: 1.0000"
     ]
    },
    {
     "name": "stderr",
     "output_type": "stream",
     "text": [
      "WARNING:absl:Found untraced functions such as _update_step_xla while saving (showing 1 of 1). These functions will not be directly callable after loading.\n"
     ]
    },
    {
     "name": "stdout",
     "output_type": "stream",
     "text": [
      "INFO:tensorflow:Assets written to: model.h6\\assets\n"
     ]
    },
    {
     "name": "stderr",
     "output_type": "stream",
     "text": [
      "INFO:tensorflow:Assets written to: model.h6\\assets\n"
     ]
    },
    {
     "name": "stdout",
     "output_type": "stream",
     "text": [
      "107/107 [==============================] - 1s 11ms/step - loss: 1.7452e-04 - accuracy: 1.0000 - val_loss: 0.0994 - val_accuracy: 0.4889\n",
      "Epoch 34/100\n",
      " 91/107 [========================>.....] - ETA: 0s - loss: 1.6611e-04 - accuracy: 1.0000"
     ]
    },
    {
     "name": "stderr",
     "output_type": "stream",
     "text": [
      "WARNING:absl:Found untraced functions such as _update_step_xla while saving (showing 1 of 1). These functions will not be directly callable after loading.\n"
     ]
    },
    {
     "name": "stdout",
     "output_type": "stream",
     "text": [
      "INFO:tensorflow:Assets written to: model.h6\\assets\n"
     ]
    },
    {
     "name": "stderr",
     "output_type": "stream",
     "text": [
      "INFO:tensorflow:Assets written to: model.h6\\assets\n"
     ]
    },
    {
     "name": "stdout",
     "output_type": "stream",
     "text": [
      "107/107 [==============================] - 1s 13ms/step - loss: 1.6545e-04 - accuracy: 1.0000 - val_loss: 0.0994 - val_accuracy: 0.4889\n",
      "Epoch 35/100\n",
      "107/107 [==============================] - 0s 3ms/step - loss: 1.5660e-04 - accuracy: 1.0000 - val_loss: 0.0995 - val_accuracy: 0.4889\n",
      "Epoch 36/100\n",
      "107/107 [==============================] - 0s 2ms/step - loss: 1.4770e-04 - accuracy: 1.0000 - val_loss: 0.0996 - val_accuracy: 0.4889\n",
      "Epoch 37/100\n",
      "107/107 [==============================] - 0s 2ms/step - loss: 1.3831e-04 - accuracy: 1.0000 - val_loss: 0.0999 - val_accuracy: 0.4889\n",
      "Epoch 38/100\n",
      "107/107 [==============================] - 0s 4ms/step - loss: 1.2929e-04 - accuracy: 1.0000 - val_loss: 0.1002 - val_accuracy: 0.4889\n",
      "Epoch 39/100\n",
      "107/107 [==============================] - 0s 3ms/step - loss: 1.2036e-04 - accuracy: 1.0000 - val_loss: 0.1007 - val_accuracy: 0.4889\n",
      "Epoch 40/100\n",
      "107/107 [==============================] - 0s 3ms/step - loss: 1.1084e-04 - accuracy: 1.0000 - val_loss: 0.1014 - val_accuracy: 0.4889\n",
      "Epoch 41/100\n",
      "107/107 [==============================] - 0s 3ms/step - loss: 1.0288e-04 - accuracy: 1.0000 - val_loss: 0.1019 - val_accuracy: 0.4889\n",
      "Epoch 42/100\n",
      "107/107 [==============================] - 0s 2ms/step - loss: 9.6592e-05 - accuracy: 1.0000 - val_loss: 0.1025 - val_accuracy: 0.4889\n",
      "Epoch 43/100\n",
      "107/107 [==============================] - 0s 3ms/step - loss: 8.9973e-05 - accuracy: 1.0000 - val_loss: 0.1032 - val_accuracy: 0.4889\n",
      "Epoch 44/100\n",
      "107/107 [==============================] - 0s 3ms/step - loss: 8.2974e-05 - accuracy: 1.0000 - val_loss: 0.1041 - val_accuracy: 0.4889\n",
      "Epoch 45/100\n",
      "107/107 [==============================] - 0s 2ms/step - loss: 7.6717e-05 - accuracy: 1.0000 - val_loss: 0.1036 - val_accuracy: 0.4889\n",
      "Epoch 46/100\n",
      "107/107 [==============================] - 0s 2ms/step - loss: 7.0614e-05 - accuracy: 1.0000 - val_loss: 0.1022 - val_accuracy: 0.4889\n",
      "Epoch 47/100\n",
      "107/107 [==============================] - 0s 3ms/step - loss: 6.4155e-05 - accuracy: 1.0000 - val_loss: 0.1008 - val_accuracy: 0.4889\n",
      "Epoch 48/100\n",
      "107/107 [==============================] - 0s 4ms/step - loss: 5.7403e-05 - accuracy: 1.0000 - val_loss: 0.0995 - val_accuracy: 0.4889\n",
      "Epoch 49/100\n",
      "106/107 [============================>.] - ETA: 0s - loss: 5.2193e-05 - accuracy: 1.0000"
     ]
    },
    {
     "name": "stderr",
     "output_type": "stream",
     "text": [
      "WARNING:absl:Found untraced functions such as _update_step_xla while saving (showing 1 of 1). These functions will not be directly callable after loading.\n"
     ]
    },
    {
     "name": "stdout",
     "output_type": "stream",
     "text": [
      "INFO:tensorflow:Assets written to: model.h6\\assets\n"
     ]
    },
    {
     "name": "stderr",
     "output_type": "stream",
     "text": [
      "INFO:tensorflow:Assets written to: model.h6\\assets\n"
     ]
    },
    {
     "name": "stdout",
     "output_type": "stream",
     "text": [
      "107/107 [==============================] - 1s 11ms/step - loss: 5.2188e-05 - accuracy: 1.0000 - val_loss: 0.0985 - val_accuracy: 0.4889\n",
      "Epoch 50/100\n",
      " 94/107 [=========================>....] - ETA: 0s - loss: 4.7593e-05 - accuracy: 1.0000"
     ]
    },
    {
     "name": "stderr",
     "output_type": "stream",
     "text": [
      "WARNING:absl:Found untraced functions such as _update_step_xla while saving (showing 1 of 1). These functions will not be directly callable after loading.\n"
     ]
    },
    {
     "name": "stdout",
     "output_type": "stream",
     "text": [
      "INFO:tensorflow:Assets written to: model.h6\\assets\n"
     ]
    },
    {
     "name": "stderr",
     "output_type": "stream",
     "text": [
      "INFO:tensorflow:Assets written to: model.h6\\assets\n"
     ]
    },
    {
     "name": "stdout",
     "output_type": "stream",
     "text": [
      "107/107 [==============================] - 1s 11ms/step - loss: 4.7303e-05 - accuracy: 1.0000 - val_loss: 0.0977 - val_accuracy: 0.4889\n",
      "Epoch 51/100\n",
      "100/107 [===========================>..] - ETA: 0s - loss: 4.2283e-05 - accuracy: 1.0000"
     ]
    },
    {
     "name": "stderr",
     "output_type": "stream",
     "text": [
      "WARNING:absl:Found untraced functions such as _update_step_xla while saving (showing 1 of 1). These functions will not be directly callable after loading.\n"
     ]
    },
    {
     "name": "stdout",
     "output_type": "stream",
     "text": [
      "INFO:tensorflow:Assets written to: model.h6\\assets\n"
     ]
    },
    {
     "name": "stderr",
     "output_type": "stream",
     "text": [
      "INFO:tensorflow:Assets written to: model.h6\\assets\n"
     ]
    },
    {
     "name": "stdout",
     "output_type": "stream",
     "text": [
      "107/107 [==============================] - 1s 10ms/step - loss: 4.2125e-05 - accuracy: 1.0000 - val_loss: 0.0972 - val_accuracy: 0.4889\n",
      "Epoch 52/100\n",
      " 97/107 [==========================>...] - ETA: 0s - loss: 3.6850e-05 - accuracy: 1.0000"
     ]
    },
    {
     "name": "stderr",
     "output_type": "stream",
     "text": [
      "WARNING:absl:Found untraced functions such as _update_step_xla while saving (showing 1 of 1). These functions will not be directly callable after loading.\n"
     ]
    },
    {
     "name": "stdout",
     "output_type": "stream",
     "text": [
      "INFO:tensorflow:Assets written to: model.h6\\assets\n"
     ]
    },
    {
     "name": "stderr",
     "output_type": "stream",
     "text": [
      "INFO:tensorflow:Assets written to: model.h6\\assets\n"
     ]
    },
    {
     "name": "stdout",
     "output_type": "stream",
     "text": [
      "107/107 [==============================] - 1s 13ms/step - loss: 3.6608e-05 - accuracy: 1.0000 - val_loss: 0.0968 - val_accuracy: 0.4889\n",
      "Epoch 53/100\n",
      "107/107 [==============================] - 0s 3ms/step - loss: 3.2525e-05 - accuracy: 1.0000 - val_loss: 0.0973 - val_accuracy: 0.4889\n",
      "Epoch 54/100\n",
      "107/107 [==============================] - 0s 2ms/step - loss: 2.9641e-05 - accuracy: 1.0000 - val_loss: 0.0984 - val_accuracy: 0.4889\n",
      "Epoch 55/100\n",
      "107/107 [==============================] - 0s 2ms/step - loss: 2.6598e-05 - accuracy: 1.0000 - val_loss: 0.0997 - val_accuracy: 0.4889\n",
      "Epoch 56/100\n",
      "107/107 [==============================] - 0s 3ms/step - loss: 2.3349e-05 - accuracy: 1.0000 - val_loss: 0.1015 - val_accuracy: 0.4889\n",
      "Epoch 57/100\n",
      "107/107 [==============================] - 0s 3ms/step - loss: 1.9956e-05 - accuracy: 1.0000 - val_loss: 0.1036 - val_accuracy: 0.4889\n",
      "Epoch 58/100\n",
      "107/107 [==============================] - 0s 3ms/step - loss: 1.6333e-05 - accuracy: 1.0000 - val_loss: 0.1063 - val_accuracy: 0.4889\n",
      "Epoch 59/100\n",
      "107/107 [==============================] - 0s 2ms/step - loss: 1.2594e-05 - accuracy: 1.0000 - val_loss: 0.1097 - val_accuracy: 0.4889\n",
      "Epoch 60/100\n",
      "107/107 [==============================] - 0s 2ms/step - loss: 8.6927e-06 - accuracy: 1.0000 - val_loss: 0.1141 - val_accuracy: 0.4889\n",
      "Epoch 61/100\n",
      "107/107 [==============================] - 0s 2ms/step - loss: 4.6096e-06 - accuracy: 1.0000 - val_loss: 0.1187 - val_accuracy: 0.4889\n",
      "Epoch 62/100\n",
      "107/107 [==============================] - 0s 3ms/step - loss: 8.3726e-07 - accuracy: 1.0000 - val_loss: 0.1215 - val_accuracy: 0.4889\n",
      "Epoch 63/100\n",
      "107/107 [==============================] - 0s 3ms/step - loss: 1.9604e-07 - accuracy: 1.0000 - val_loss: 0.1214 - val_accuracy: 0.4889\n",
      "Epoch 64/100\n",
      "107/107 [==============================] - 0s 2ms/step - loss: 2.0738e-07 - accuracy: 1.0000 - val_loss: 0.1215 - val_accuracy: 0.4889\n",
      "Epoch 65/100\n",
      "107/107 [==============================] - 0s 3ms/step - loss: 2.1116e-07 - accuracy: 1.0000 - val_loss: 0.1214 - val_accuracy: 0.4889\n",
      "Epoch 66/100\n",
      "107/107 [==============================] - 0s 3ms/step - loss: 1.8471e-07 - accuracy: 1.0000 - val_loss: 0.1214 - val_accuracy: 0.4889\n",
      "Epoch 67/100\n",
      "107/107 [==============================] - 0s 3ms/step - loss: 2.1306e-07 - accuracy: 1.0000 - val_loss: 0.1215 - val_accuracy: 0.4889\n",
      "Epoch 68/100\n",
      "107/107 [==============================] - 0s 3ms/step - loss: 2.2387e-07 - accuracy: 1.0000 - val_loss: 0.1214 - val_accuracy: 0.4889\n",
      "Epoch 69/100\n",
      "107/107 [==============================] - 0s 2ms/step - loss: 2.2988e-07 - accuracy: 1.0000 - val_loss: 0.1214 - val_accuracy: 0.4889\n",
      "Epoch 70/100\n",
      "107/107 [==============================] - 0s 3ms/step - loss: 2.4564e-07 - accuracy: 1.0000 - val_loss: 0.1214 - val_accuracy: 0.4889\n",
      "Epoch 71/100\n",
      "107/107 [==============================] - 0s 3ms/step - loss: 2.4791e-07 - accuracy: 1.0000 - val_loss: 0.1214 - val_accuracy: 0.4889\n",
      "Epoch 72/100\n",
      "107/107 [==============================] - 0s 2ms/step - loss: 2.5700e-07 - accuracy: 1.0000 - val_loss: 0.1214 - val_accuracy: 0.4889\n",
      "Epoch 73/100\n",
      "107/107 [==============================] - 0s 3ms/step - loss: 2.4586e-07 - accuracy: 1.0000 - val_loss: 0.1215 - val_accuracy: 0.4889\n",
      "Epoch 74/100\n",
      "107/107 [==============================] - 0s 3ms/step - loss: 2.6478e-07 - accuracy: 1.0000 - val_loss: 0.1215 - val_accuracy: 0.4889\n",
      "Epoch 75/100\n",
      "107/107 [==============================] - 0s 2ms/step - loss: 2.6252e-07 - accuracy: 1.0000 - val_loss: 0.1214 - val_accuracy: 0.4889\n",
      "Epoch 76/100\n",
      "107/107 [==============================] - 0s 2ms/step - loss: 2.6763e-07 - accuracy: 1.0000 - val_loss: 0.1214 - val_accuracy: 0.4889\n",
      "Epoch 77/100\n",
      "107/107 [==============================] - 0s 2ms/step - loss: 2.8681e-07 - accuracy: 1.0000 - val_loss: 0.1214 - val_accuracy: 0.4889\n",
      "Epoch 78/100\n",
      "107/107 [==============================] - 0s 2ms/step - loss: 2.5954e-07 - accuracy: 1.0000 - val_loss: 0.1214 - val_accuracy: 0.4889\n",
      "Epoch 79/100\n",
      "107/107 [==============================] - 0s 2ms/step - loss: 2.6894e-07 - accuracy: 1.0000 - val_loss: 0.1215 - val_accuracy: 0.4889\n",
      "Epoch 80/100\n",
      "107/107 [==============================] - 0s 2ms/step - loss: 2.8673e-07 - accuracy: 1.0000 - val_loss: 0.1214 - val_accuracy: 0.4889\n",
      "Epoch 81/100\n",
      "107/107 [==============================] - 0s 2ms/step - loss: 2.9141e-07 - accuracy: 1.0000 - val_loss: 0.1214 - val_accuracy: 0.4889\n",
      "Epoch 82/100\n",
      "107/107 [==============================] - 0s 2ms/step - loss: 2.7051e-07 - accuracy: 1.0000 - val_loss: 0.1214 - val_accuracy: 0.4889\n",
      "Epoch 83/100\n",
      "107/107 [==============================] - 0s 2ms/step - loss: 3.2721e-07 - accuracy: 1.0000 - val_loss: 0.1215 - val_accuracy: 0.4889\n",
      "Epoch 84/100\n",
      "107/107 [==============================] - 0s 3ms/step - loss: 2.7752e-07 - accuracy: 1.0000 - val_loss: 0.1215 - val_accuracy: 0.4889\n",
      "Epoch 85/100\n",
      "107/107 [==============================] - 0s 3ms/step - loss: 3.0394e-07 - accuracy: 1.0000 - val_loss: 0.1214 - val_accuracy: 0.4889\n",
      "Epoch 86/100\n",
      "107/107 [==============================] - 0s 2ms/step - loss: 2.9927e-07 - accuracy: 1.0000 - val_loss: 0.1215 - val_accuracy: 0.4889\n",
      "Epoch 87/100\n",
      "107/107 [==============================] - 0s 2ms/step - loss: 3.3141e-07 - accuracy: 1.0000 - val_loss: 0.1215 - val_accuracy: 0.4889\n",
      "Epoch 88/100\n",
      "107/107 [==============================] - 0s 2ms/step - loss: 3.1807e-07 - accuracy: 1.0000 - val_loss: 0.1214 - val_accuracy: 0.4889\n",
      "Epoch 89/100\n",
      "107/107 [==============================] - 0s 2ms/step - loss: 2.9320e-07 - accuracy: 1.0000 - val_loss: 0.1214 - val_accuracy: 0.4889\n",
      "Epoch 90/100\n",
      "107/107 [==============================] - 0s 2ms/step - loss: 2.9078e-07 - accuracy: 1.0000 - val_loss: 0.1214 - val_accuracy: 0.4889\n",
      "Epoch 91/100\n",
      "107/107 [==============================] - 0s 2ms/step - loss: 3.2824e-07 - accuracy: 1.0000 - val_loss: 0.1214 - val_accuracy: 0.4889\n",
      "Epoch 92/100\n",
      "107/107 [==============================] - 0s 2ms/step - loss: 2.9344e-07 - accuracy: 1.0000 - val_loss: 0.1215 - val_accuracy: 0.4889\n",
      "Epoch 93/100\n",
      "107/107 [==============================] - 0s 3ms/step - loss: 3.2388e-07 - accuracy: 1.0000 - val_loss: 0.1214 - val_accuracy: 0.4889\n",
      "Epoch 94/100\n",
      "107/107 [==============================] - 0s 3ms/step - loss: 3.0982e-07 - accuracy: 1.0000 - val_loss: 0.1214 - val_accuracy: 0.4889\n",
      "Epoch 95/100\n",
      "107/107 [==============================] - 0s 2ms/step - loss: 3.5838e-07 - accuracy: 1.0000 - val_loss: 0.1215 - val_accuracy: 0.4889\n",
      "Epoch 96/100\n",
      "107/107 [==============================] - 0s 2ms/step - loss: 3.0726e-07 - accuracy: 1.0000 - val_loss: 0.1214 - val_accuracy: 0.4889\n",
      "Epoch 97/100\n",
      "107/107 [==============================] - 0s 2ms/step - loss: 3.2959e-07 - accuracy: 1.0000 - val_loss: 0.1214 - val_accuracy: 0.4889\n",
      "Epoch 98/100\n",
      "107/107 [==============================] - 0s 3ms/step - loss: 3.1608e-07 - accuracy: 1.0000 - val_loss: 0.1215 - val_accuracy: 0.4889\n",
      "Epoch 99/100\n",
      "107/107 [==============================] - 0s 3ms/step - loss: 3.3036e-07 - accuracy: 1.0000 - val_loss: 0.1213 - val_accuracy: 0.4889\n",
      "Epoch 100/100\n",
      "107/107 [==============================] - 0s 3ms/step - loss: 3.6080e-07 - accuracy: 1.0000 - val_loss: 0.1215 - val_accuracy: 0.4889\n"
     ]
    }
   ],
   "source": [
    "autoencoder.compile(optimizer='adam', loss='mean_squared_error', metrics=['accuracy'])\n",
    "checkpointer = ModelCheckpoint(filepath=\"model.h6\", verbose=0, save_best_only=True)\n",
    "tensorboard = TensorBoard(log_dir='./logs', histogram_freq=0, write_graph=True, write_images=True)\n",
    "\n",
    "history = autoencoder.fit(X_train_normal_train, X_train_normal_train,\n",
    "                    epochs=100,\n",
    "                    batch_size=32,\n",
    "                    shuffle=True,\n",
    "                    validation_data=(X_test, X_test),\n",
    "                    verbose=1,\n",
    "                    callbacks=[checkpointer, tensorboard]).history"
   ]
  },
  {
   "cell_type": "code",
   "execution_count": 110,
   "id": "ef3eb898",
   "metadata": {},
   "outputs": [
    {
     "name": "stdout",
     "output_type": "stream",
     "text": [
      "71/71 [==============================] - 0s 1ms/step\n"
     ]
    }
   ],
   "source": [
    "y_pred = autoencoder.predict(X_test)"
   ]
  },
  {
   "cell_type": "code",
   "execution_count": 111,
   "id": "64f36e2b",
   "metadata": {},
   "outputs": [],
   "source": [
    "error_df = pd.DataFrame({'reconstruction_error': np.mean(np.power(X_test - y_pred, 2), axis=1),\n",
    "                        'true_class': y_test})"
   ]
  },
  {
   "cell_type": "code",
   "execution_count": 112,
   "id": "12d09cc2",
   "metadata": {},
   "outputs": [],
   "source": [
    "threshold = 2.9\n",
    "\n",
    "y_pred = [0 if e > threshold else 1 for e in error_df.reconstruction_error.values]"
   ]
  },
  {
   "cell_type": "code",
   "execution_count": 113,
   "id": "73beed89",
   "metadata": {},
   "outputs": [
    {
     "data": {
      "image/png": "[encoded data removed]",
      "text/plain": [
       "<Figure size 1200x1200 with 2 Axes>"
      ]
     },
     "metadata": {},
     "output_type": "display_data"
    }
   ],
   "source": [
    "conf_matrix = confusion_matrix(error_df.true_class, y_pred)\n",
    "plt.figure(figsize=(12, 12))\n",
    "sns.heatmap(conf_matrix, xticklabels=[\"Normal\", \"AbNormal\"], yticklabels=[\"Normal\", \"AbNormal\"], annot=True, fmt=\"d\")\n",
    "plt.title(\"Confusion matrix\")\n",
    "plt.ylabel('True class')\n",
    "plt.xlabel('Predicted class')\n",
    "plt.show()"
   ]
  },
  {
   "cell_type": "code",
   "execution_count": 114,
   "id": "7ddc5fe6",
   "metadata": {},
   "outputs": [
    {
     "name": "stdout",
     "output_type": "stream",
     "text": [
      "Accuracy Score : 0.5111111111111111\n",
      "Precision : 0.5111111111111111\n",
      "Recall : 1.0\n",
      "F1 : 0.676470588235294\n"
     ]
    }
   ],
   "source": [
    "precision, recall, f1, _ = precision_recall_fscore_support(y_test, y_pred, average='binary')\n",
    "\n",
    "print('Accuracy Score :',accuracy_score(error_df.true_class, y_pred))\n",
    "print('Precision :',precision)\n",
    "print('Recall :',recall)\n",
    "print('F1 :',f1)"
   ]
  }
 ],
 "metadata": {
  "kernelspec": {
   "display_name": "Python 3 (ipykernel)",
   "language": "python",
   "name": "python3"
  },
  "language_info": {
   "codemirror_mode": {
    "name": "ipython",
    "version": 3
   },
   "file_extension": ".py",
   "mimetype": "text/x-python",
   "name": "python",
   "nbconvert_exporter": "python",
   "pygments_lexer": "ipython3",
   "version": "3.9.13"
  }
 },
 "nbformat": 4,
 "nbformat_minor": 5
}
