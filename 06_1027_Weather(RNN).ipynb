{
 "cells": [
  {
   "cell_type": "code",
   "execution_count": 1,
   "id": "5a360ee3",
   "metadata": {},
   "outputs": [],
   "source": [
    "import matplotlib.pyplot as plt\n",
    "import pandas as pd\n",
    "import seaborn as sns\n",
    "import numpy as np\n",
    "\n",
    "import pathlib\n",
    "import tensorflow as tf\n",
    "from tensorflow import keras\n",
    "from tensorflow.keras import layers"
   ]
  },
  {
   "cell_type": "code",
   "execution_count": 3,
   "id": "469ba268",
   "metadata": {},
   "outputs": [
    {
     "name": "stdout",
     "output_type": "stream",
     "text": [
      "            date   meantemp    humidity  wind_speed  meanpressure\n",
      "0     2013-01-01  10.000000   84.500000    0.000000   1015.666667\n",
      "1     2013-01-02   7.400000   92.000000    2.980000   1017.800000\n",
      "2     2013-01-03   7.166667   87.000000    4.633333   1018.666667\n",
      "3     2013-01-04   8.666667   71.333333    1.233333   1017.166667\n",
      "4     2013-01-05   6.000000   86.833333    3.700000   1016.500000\n",
      "...          ...        ...         ...         ...           ...\n",
      "1457  2016-12-28  17.217391   68.043478    3.547826   1015.565217\n",
      "1458  2016-12-29  15.238095   87.857143    6.000000   1016.904762\n",
      "1459  2016-12-30  14.095238   89.666667    6.266667   1017.904762\n",
      "1460  2016-12-31  15.052632   87.000000    7.325000   1016.100000\n",
      "1461  2017-01-01  10.000000  100.000000    0.000000   1016.000000\n",
      "\n",
      "[1462 rows x 5 columns]\n"
     ]
    }
   ],
   "source": [
    "import pandas as pd\n",
    "\n",
    "# 파일 가져오기\n",
    "\n",
    "file_name = 'C:/Users/abc99/OneDrive/바탕 화면/2023 2학기 파일 전체 모음/딥러닝응용/DailyDelhiClimateTrain.csv'\n",
    "df_train = pd.read_csv(file_name)\n",
    "print(df_train)"
   ]
  },
  {
   "cell_type": "code",
   "execution_count": 4,
   "id": "7f41a60b",
   "metadata": {},
   "outputs": [
    {
     "name": "stdout",
     "output_type": "stream",
     "text": [
      "           date   meantemp   humidity  wind_speed  meanpressure\n",
      "0    2017-01-01  15.913043  85.869565    2.743478     59.000000\n",
      "1    2017-01-02  18.500000  77.222222    2.894444   1018.277778\n",
      "2    2017-01-03  17.111111  81.888889    4.016667   1018.333333\n",
      "3    2017-01-04  18.700000  70.050000    4.545000   1015.700000\n",
      "4    2017-01-05  18.388889  74.944444    3.300000   1014.333333\n",
      "..          ...        ...        ...         ...           ...\n",
      "109  2017-04-20  34.500000  27.500000    5.562500    998.625000\n",
      "110  2017-04-21  34.250000  39.375000    6.962500    999.875000\n",
      "111  2017-04-22  32.900000  40.900000    8.890000   1001.600000\n",
      "112  2017-04-23  32.875000  27.500000    9.962500   1002.125000\n",
      "113  2017-04-24  32.000000  27.142857   12.157143   1004.142857\n",
      "\n",
      "[114 rows x 5 columns]\n"
     ]
    }
   ],
   "source": [
    "import pandas as pd\n",
    "\n",
    "# 파일 가져오기\n",
    "\n",
    "file_name = 'C:/Users/abc99/OneDrive/바탕 화면/2023 2학기 파일 전체 모음/딥러닝응용/DailyDelhiClimateTest.csv'\n",
    "df_test = pd.read_csv(file_name)\n",
    "print(df_test)"
   ]
  },
  {
   "cell_type": "code",
   "execution_count": 73,
   "id": "f721c830",
   "metadata": {},
   "outputs": [],
   "source": [
    "train_data = df_train\n",
    "test_data = df_test"
   ]
  },
  {
   "cell_type": "code",
   "execution_count": 74,
   "id": "e30fb3dd",
   "metadata": {},
   "outputs": [],
   "source": [
    "features = ['meantemp', 'wind_speed', 'meanpressure']\n",
    "target = 'humidity'"
   ]
  },
  {
   "cell_type": "code",
   "execution_count": 75,
   "id": "52aebfe8",
   "metadata": {},
   "outputs": [],
   "source": [
    "# train, test \n",
    "\n",
    "X_train = train_data[features].values\n",
    "y_train = train_data[target].values\n",
    "X_test = test_data[features].values"
   ]
  },
  {
   "cell_type": "code",
   "execution_count": 77,
   "id": "8ef25ac3",
   "metadata": {},
   "outputs": [],
   "source": [
    "from sklearn.preprocessing import MinMaxScaler\n",
    "\n",
    "# MinMaxScaler 생성\n",
    "scaler = MinMaxScaler(feature_range=(0, 1))\n",
    "\n",
    "# 데이터 정규화\n",
    "X_train = scaler.fit_transform(X_train)\n",
    "X_test = scaler.transform(X_test)\n"
   ]
  },
  {
   "cell_type": "markdown",
   "id": "5a9ca852",
   "metadata": {},
   "source": [
    "[ RNN ]"
   ]
  },
  {
   "cell_type": "code",
   "execution_count": 78,
   "id": "444b9b6e",
   "metadata": {},
   "outputs": [],
   "source": [
    "# RNN 모델 \n",
    "model = Sequential()\n",
    "model.add(SimpleRNN(32, activation='relu', input_shape=(X_train.shape[1], 1), return_sequences=True))\n",
    "model.add(SimpleRNN(32, activation='relu'))\n",
    "model.add(Dense(1))"
   ]
  },
  {
   "cell_type": "code",
   "execution_count": 80,
   "id": "4f06655b",
   "metadata": {},
   "outputs": [],
   "source": [
    "from tensorflow.keras.optimizers import Adam\n",
    "model.compile(optimizer=Adam(learning_rate=0.001), loss='mean_squared_error')"
   ]
  },
  {
   "cell_type": "code",
   "execution_count": 81,
   "id": "699f1a15",
   "metadata": {},
   "outputs": [
    {
     "name": "stdout",
     "output_type": "stream",
     "text": [
      "Epoch 1/100\n",
      "23/23 [==============================] - 6s 7ms/step - loss: 3835.8474\n",
      "Epoch 2/100\n",
      "23/23 [==============================] - 0s 5ms/step - loss: 3173.3079\n",
      "Epoch 3/100\n",
      "23/23 [==============================] - 0s 6ms/step - loss: 1345.6940\n",
      "Epoch 4/100\n",
      "23/23 [==============================] - 0s 5ms/step - loss: 684.1794\n",
      "Epoch 5/100\n",
      "23/23 [==============================] - 0s 5ms/step - loss: 602.8154\n",
      "Epoch 6/100\n",
      "23/23 [==============================] - 0s 6ms/step - loss: 554.5089\n",
      "Epoch 7/100\n",
      "23/23 [==============================] - 0s 7ms/step - loss: 511.8564\n",
      "Epoch 8/100\n",
      "23/23 [==============================] - 0s 5ms/step - loss: 465.9852\n",
      "Epoch 9/100\n",
      "23/23 [==============================] - 0s 5ms/step - loss: 413.6780\n",
      "Epoch 10/100\n",
      "23/23 [==============================] - 0s 5ms/step - loss: 360.8764\n",
      "Epoch 11/100\n",
      "23/23 [==============================] - 0s 4ms/step - loss: 305.4314\n",
      "Epoch 12/100\n",
      "23/23 [==============================] - 0s 6ms/step - loss: 257.6043\n",
      "Epoch 13/100\n",
      "23/23 [==============================] - 0s 7ms/step - loss: 221.4631\n",
      "Epoch 14/100\n",
      "23/23 [==============================] - 0s 6ms/step - loss: 199.4385\n",
      "Epoch 15/100\n",
      "23/23 [==============================] - 0s 7ms/step - loss: 191.4438\n",
      "Epoch 16/100\n",
      "23/23 [==============================] - 0s 5ms/step - loss: 189.0620\n",
      "Epoch 17/100\n",
      "23/23 [==============================] - 0s 7ms/step - loss: 186.6915\n",
      "Epoch 18/100\n",
      "23/23 [==============================] - 0s 7ms/step - loss: 186.3569\n",
      "Epoch 19/100\n",
      "23/23 [==============================] - 0s 7ms/step - loss: 189.0788\n",
      "Epoch 20/100\n",
      "23/23 [==============================] - 0s 7ms/step - loss: 184.1670\n",
      "Epoch 21/100\n",
      "23/23 [==============================] - 0s 8ms/step - loss: 183.9699\n",
      "Epoch 22/100\n",
      "23/23 [==============================] - 0s 7ms/step - loss: 185.5772\n",
      "Epoch 23/100\n",
      "23/23 [==============================] - 0s 7ms/step - loss: 184.3549\n",
      "Epoch 24/100\n",
      "23/23 [==============================] - 0s 4ms/step - loss: 184.0741\n",
      "Epoch 25/100\n",
      "23/23 [==============================] - 0s 4ms/step - loss: 184.5798\n",
      "Epoch 26/100\n",
      "23/23 [==============================] - 0s 6ms/step - loss: 184.6709\n",
      "Epoch 27/100\n",
      "23/23 [==============================] - 0s 7ms/step - loss: 185.1815\n",
      "Epoch 28/100\n",
      "23/23 [==============================] - 0s 7ms/step - loss: 183.4699\n",
      "Epoch 29/100\n",
      "23/23 [==============================] - 0s 7ms/step - loss: 183.5048\n",
      "Epoch 30/100\n",
      "23/23 [==============================] - 0s 7ms/step - loss: 186.0855\n",
      "Epoch 31/100\n",
      "23/23 [==============================] - 0s 7ms/step - loss: 187.1029\n",
      "Epoch 32/100\n",
      "23/23 [==============================] - 0s 7ms/step - loss: 186.6979\n",
      "Epoch 33/100\n",
      "23/23 [==============================] - 0s 7ms/step - loss: 183.9215\n",
      "Epoch 34/100\n",
      "23/23 [==============================] - 0s 7ms/step - loss: 185.6740\n",
      "Epoch 35/100\n",
      "23/23 [==============================] - 0s 7ms/step - loss: 183.9301\n",
      "Epoch 36/100\n",
      "23/23 [==============================] - 0s 5ms/step - loss: 184.8806\n",
      "Epoch 37/100\n",
      "23/23 [==============================] - 0s 4ms/step - loss: 184.1403\n",
      "Epoch 38/100\n",
      "23/23 [==============================] - 0s 4ms/step - loss: 183.4090\n",
      "Epoch 39/100\n",
      "23/23 [==============================] - 0s 7ms/step - loss: 183.9910\n",
      "Epoch 40/100\n",
      "23/23 [==============================] - 0s 7ms/step - loss: 183.4459\n",
      "Epoch 41/100\n",
      "23/23 [==============================] - 0s 7ms/step - loss: 183.4067\n",
      "Epoch 42/100\n",
      "23/23 [==============================] - 0s 6ms/step - loss: 184.0594\n",
      "Epoch 43/100\n",
      "23/23 [==============================] - 0s 7ms/step - loss: 185.4211\n",
      "Epoch 44/100\n",
      "23/23 [==============================] - 0s 7ms/step - loss: 183.9003\n",
      "Epoch 45/100\n",
      "23/23 [==============================] - 0s 7ms/step - loss: 184.5170\n",
      "Epoch 46/100\n",
      "23/23 [==============================] - 0s 7ms/step - loss: 184.5021\n",
      "Epoch 47/100\n",
      "23/23 [==============================] - 0s 7ms/step - loss: 181.1426\n",
      "Epoch 48/100\n",
      "23/23 [==============================] - 0s 7ms/step - loss: 181.9213\n",
      "Epoch 49/100\n",
      "23/23 [==============================] - 0s 5ms/step - loss: 182.4602\n",
      "Epoch 50/100\n",
      "23/23 [==============================] - 0s 4ms/step - loss: 182.6558\n",
      "Epoch 51/100\n",
      "23/23 [==============================] - 0s 4ms/step - loss: 182.8424\n",
      "Epoch 52/100\n",
      "23/23 [==============================] - 0s 6ms/step - loss: 183.6532\n",
      "Epoch 53/100\n",
      "23/23 [==============================] - 0s 7ms/step - loss: 181.0767\n",
      "Epoch 54/100\n",
      "23/23 [==============================] - 0s 6ms/step - loss: 179.9371\n",
      "Epoch 55/100\n",
      "23/23 [==============================] - 0s 6ms/step - loss: 179.8819\n",
      "Epoch 56/100\n",
      "23/23 [==============================] - 0s 6ms/step - loss: 179.2076\n",
      "Epoch 57/100\n",
      "23/23 [==============================] - 0s 7ms/step - loss: 180.0537\n",
      "Epoch 58/100\n",
      "23/23 [==============================] - 0s 6ms/step - loss: 179.3424\n",
      "Epoch 59/100\n",
      "23/23 [==============================] - 0s 7ms/step - loss: 179.6622\n",
      "Epoch 60/100\n",
      "23/23 [==============================] - 0s 6ms/step - loss: 179.0076\n",
      "Epoch 61/100\n",
      "23/23 [==============================] - 0s 6ms/step - loss: 178.0057\n",
      "Epoch 62/100\n",
      "23/23 [==============================] - 0s 7ms/step - loss: 178.0687\n",
      "Epoch 63/100\n",
      "23/23 [==============================] - 0s 6ms/step - loss: 178.3449\n",
      "Epoch 64/100\n",
      "23/23 [==============================] - 0s 4ms/step - loss: 175.4958\n",
      "Epoch 65/100\n",
      "23/23 [==============================] - 0s 4ms/step - loss: 176.4008\n",
      "Epoch 66/100\n",
      "23/23 [==============================] - 0s 4ms/step - loss: 176.1342\n",
      "Epoch 67/100\n",
      "23/23 [==============================] - 0s 6ms/step - loss: 174.7954\n",
      "Epoch 68/100\n",
      "23/23 [==============================] - 0s 6ms/step - loss: 174.3811\n",
      "Epoch 69/100\n",
      "23/23 [==============================] - 0s 7ms/step - loss: 174.8481\n",
      "Epoch 70/100\n",
      "23/23 [==============================] - 0s 6ms/step - loss: 173.1831\n",
      "Epoch 71/100\n",
      "23/23 [==============================] - 0s 7ms/step - loss: 172.7363\n",
      "Epoch 72/100\n",
      "23/23 [==============================] - 0s 6ms/step - loss: 172.5627\n",
      "Epoch 73/100\n",
      "23/23 [==============================] - 0s 7ms/step - loss: 172.8334\n",
      "Epoch 74/100\n",
      "23/23 [==============================] - 0s 6ms/step - loss: 179.3456\n",
      "Epoch 75/100\n",
      "23/23 [==============================] - 0s 7ms/step - loss: 173.0742\n",
      "Epoch 76/100\n",
      "23/23 [==============================] - 0s 6ms/step - loss: 170.1832\n",
      "Epoch 77/100\n",
      "23/23 [==============================] - 0s 5ms/step - loss: 174.2085\n",
      "Epoch 78/100\n",
      "23/23 [==============================] - 0s 4ms/step - loss: 176.9800\n",
      "Epoch 79/100\n",
      "23/23 [==============================] - 0s 4ms/step - loss: 172.7997\n",
      "Epoch 80/100\n",
      "23/23 [==============================] - 0s 4ms/step - loss: 171.3127\n",
      "Epoch 81/100\n",
      "23/23 [==============================] - 0s 6ms/step - loss: 170.1657\n",
      "Epoch 82/100\n",
      "23/23 [==============================] - 0s 6ms/step - loss: 171.2231\n",
      "Epoch 83/100\n",
      "23/23 [==============================] - 0s 7ms/step - loss: 171.2601\n",
      "Epoch 84/100\n",
      "23/23 [==============================] - 0s 6ms/step - loss: 169.4194\n",
      "Epoch 85/100\n",
      "23/23 [==============================] - 0s 7ms/step - loss: 170.9371\n",
      "Epoch 86/100\n",
      "23/23 [==============================] - 0s 6ms/step - loss: 170.1783\n",
      "Epoch 87/100\n",
      "23/23 [==============================] - 0s 6ms/step - loss: 169.1783\n",
      "Epoch 88/100\n",
      "23/23 [==============================] - 0s 7ms/step - loss: 169.8735\n",
      "Epoch 89/100\n",
      "23/23 [==============================] - 0s 7ms/step - loss: 174.2671\n",
      "Epoch 90/100\n",
      "23/23 [==============================] - 0s 6ms/step - loss: 168.8997\n",
      "Epoch 91/100\n",
      "23/23 [==============================] - 0s 7ms/step - loss: 167.8830\n",
      "Epoch 92/100\n",
      "23/23 [==============================] - 0s 4ms/step - loss: 167.3102\n",
      "Epoch 93/100\n",
      "23/23 [==============================] - 0s 4ms/step - loss: 168.5865\n",
      "Epoch 94/100\n",
      "23/23 [==============================] - 0s 4ms/step - loss: 168.2757\n",
      "Epoch 95/100\n",
      "23/23 [==============================] - 0s 5ms/step - loss: 172.0753\n",
      "Epoch 96/100\n",
      "23/23 [==============================] - 0s 7ms/step - loss: 170.0350\n",
      "Epoch 97/100\n",
      "23/23 [==============================] - 0s 6ms/step - loss: 169.1604\n",
      "Epoch 98/100\n",
      "23/23 [==============================] - 0s 7ms/step - loss: 170.8837\n",
      "Epoch 99/100\n"
     ]
    },
    {
     "name": "stdout",
     "output_type": "stream",
     "text": [
      "23/23 [==============================] - 0s 7ms/step - loss: 169.3997\n",
      "Epoch 100/100\n",
      "23/23 [==============================] - 0s 6ms/step - loss: 170.2842\n"
     ]
    },
    {
     "data": {
      "text/plain": [
       "<keras.callbacks.History at 0x20769093730>"
      ]
     },
     "execution_count": 81,
     "metadata": {},
     "output_type": "execute_result"
    }
   ],
   "source": [
    "# 모델 학습\n",
    "model.fit(X_train, y_train, epochs=100, batch_size=64)"
   ]
  },
  {
   "cell_type": "code",
   "execution_count": 82,
   "id": "afb09949",
   "metadata": {},
   "outputs": [
    {
     "name": "stdout",
     "output_type": "stream",
     "text": [
      "4/4 [==============================] - 1s 5ms/step\n"
     ]
    }
   ],
   "source": [
    "# 테스트 데이터\n",
    "predicted_humidity = model.predict(X_test)"
   ]
  },
  {
   "cell_type": "code",
   "execution_count": 83,
   "id": "151a107e",
   "metadata": {},
   "outputs": [
    {
     "data": {
      "image/png": "[encoded data removed]",
      "text/plain": [
       "<Figure size 640x480 with 1 Axes>"
      ]
     },
     "metadata": {},
     "output_type": "display_data"
    }
   ],
   "source": [
    "# 결과 그래프 시각화\n",
    "plt.plot(test_data.index, test_data[target], label='Actual Humidity')\n",
    "plt.plot(test_data.index, predicted_humidity, label='Predicted Humidity')\n",
    "plt.xlabel('Time')\n",
    "plt.ylabel('Humidity')\n",
    "plt.legend()\n",
    "plt.show()"
   ]
  }
 ],
 "metadata": {
  "kernelspec": {
   "display_name": "Python 3 (ipykernel)",
   "language": "python",
   "name": "python3"
  },
  "language_info": {
   "codemirror_mode": {
    "name": "ipython",
    "version": 3
   },
   "file_extension": ".py",
   "mimetype": "text/x-python",
   "name": "python",
   "nbconvert_exporter": "python",
   "pygments_lexer": "ipython3",
   "version": "3.9.13"
  }
 },
 "nbformat": 4,
 "nbformat_minor": 5
}
